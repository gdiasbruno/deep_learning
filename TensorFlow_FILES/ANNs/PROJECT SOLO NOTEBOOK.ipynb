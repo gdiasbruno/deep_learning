{
 "cells": [
  {
   "cell_type": "code",
   "execution_count": 1,
   "metadata": {},
   "outputs": [],
   "source": [
    "import pandas as pd\n",
    "import numpy as np"
   ]
  },
  {
   "cell_type": "code",
   "execution_count": 2,
   "metadata": {},
   "outputs": [],
   "source": [
    "import matplotlib.pyplot as plt\n",
    "import seaborn as sns"
   ]
  },
  {
   "cell_type": "code",
   "execution_count": 4,
   "metadata": {},
   "outputs": [],
   "source": [
    "dinfo = pd.read_csv('../DATA/lending_club_info.csv')"
   ]
  },
  {
   "cell_type": "code",
   "execution_count": 5,
   "metadata": {},
   "outputs": [
    {
     "data": {
      "text/html": [
       "<div>\n",
       "<style scoped>\n",
       "    .dataframe tbody tr th:only-of-type {\n",
       "        vertical-align: middle;\n",
       "    }\n",
       "\n",
       "    .dataframe tbody tr th {\n",
       "        vertical-align: top;\n",
       "    }\n",
       "\n",
       "    .dataframe thead th {\n",
       "        text-align: right;\n",
       "    }\n",
       "</style>\n",
       "<table border=\"1\" class=\"dataframe\">\n",
       "  <thead>\n",
       "    <tr style=\"text-align: right;\">\n",
       "      <th></th>\n",
       "      <th>LoanStatNew</th>\n",
       "      <th>Description</th>\n",
       "    </tr>\n",
       "  </thead>\n",
       "  <tbody>\n",
       "    <tr>\n",
       "      <th>0</th>\n",
       "      <td>loan_amnt</td>\n",
       "      <td>The listed amount of the loan applied for by the borrower. If at some point in time, the credit department reduces the loan amount, then it will be reflected in this value.</td>\n",
       "    </tr>\n",
       "  </tbody>\n",
       "</table>\n",
       "</div>"
      ],
      "text/plain": [
       "  LoanStatNew  \\\n",
       "0   loan_amnt   \n",
       "\n",
       "                                                                                                                                                                    Description  \n",
       "0  The listed amount of the loan applied for by the borrower. If at some point in time, the credit department reduces the loan amount, then it will be reflected in this value.  "
      ]
     },
     "execution_count": 5,
     "metadata": {},
     "output_type": "execute_result"
    }
   ],
   "source": [
    "pd.set_option('max_colwidth', 200)\n",
    "dinfo[dinfo['LoanStatNew'] == 'loan_amnt']"
   ]
  },
  {
   "cell_type": "code",
   "execution_count": 74,
   "metadata": {
    "collapsed": true
   },
   "outputs": [
    {
     "data": {
      "text/html": [
       "<div>\n",
       "<style scoped>\n",
       "    .dataframe tbody tr th:only-of-type {\n",
       "        vertical-align: middle;\n",
       "    }\n",
       "\n",
       "    .dataframe tbody tr th {\n",
       "        vertical-align: top;\n",
       "    }\n",
       "\n",
       "    .dataframe thead th {\n",
       "        text-align: right;\n",
       "    }\n",
       "</style>\n",
       "<table border=\"1\" class=\"dataframe\">\n",
       "  <thead>\n",
       "    <tr style=\"text-align: right;\">\n",
       "      <th></th>\n",
       "      <th>LoanStatNew</th>\n",
       "      <th>Description</th>\n",
       "    </tr>\n",
       "  </thead>\n",
       "  <tbody>\n",
       "    <tr>\n",
       "      <th>0</th>\n",
       "      <td>loan_amnt</td>\n",
       "      <td>The listed amount of the loan applied for by the borrower. If at some point in time, the credit department reduces the loan amount, then it will be reflected in this value.</td>\n",
       "    </tr>\n",
       "    <tr>\n",
       "      <th>1</th>\n",
       "      <td>term</td>\n",
       "      <td>The number of payments on the loan. Values are in months and can be either 36 or 60.</td>\n",
       "    </tr>\n",
       "    <tr>\n",
       "      <th>2</th>\n",
       "      <td>int_rate</td>\n",
       "      <td>Interest Rate on the loan</td>\n",
       "    </tr>\n",
       "    <tr>\n",
       "      <th>3</th>\n",
       "      <td>installment</td>\n",
       "      <td>The monthly payment owed by the borrower if the loan originates.</td>\n",
       "    </tr>\n",
       "    <tr>\n",
       "      <th>4</th>\n",
       "      <td>grade</td>\n",
       "      <td>LC assigned loan grade</td>\n",
       "    </tr>\n",
       "    <tr>\n",
       "      <th>5</th>\n",
       "      <td>sub_grade</td>\n",
       "      <td>LC assigned loan subgrade</td>\n",
       "    </tr>\n",
       "    <tr>\n",
       "      <th>6</th>\n",
       "      <td>emp_title</td>\n",
       "      <td>The job title supplied by the Borrower when applying for the loan.*</td>\n",
       "    </tr>\n",
       "    <tr>\n",
       "      <th>7</th>\n",
       "      <td>emp_length</td>\n",
       "      <td>Employment length in years. Possible values are between 0 and 10 where 0 means less than one year and 10 means ten or more years.</td>\n",
       "    </tr>\n",
       "    <tr>\n",
       "      <th>8</th>\n",
       "      <td>home_ownership</td>\n",
       "      <td>The home ownership status provided by the borrower during registration or obtained from the credit report. Our values are: RENT, OWN, MORTGAGE, OTHER</td>\n",
       "    </tr>\n",
       "    <tr>\n",
       "      <th>9</th>\n",
       "      <td>annual_inc</td>\n",
       "      <td>The self-reported annual income provided by the borrower during registration.</td>\n",
       "    </tr>\n",
       "    <tr>\n",
       "      <th>10</th>\n",
       "      <td>verification_status</td>\n",
       "      <td>Indicates if income was verified by LC, not verified, or if the income source was verified</td>\n",
       "    </tr>\n",
       "    <tr>\n",
       "      <th>11</th>\n",
       "      <td>issue_d</td>\n",
       "      <td>The month which the loan was funded</td>\n",
       "    </tr>\n",
       "    <tr>\n",
       "      <th>12</th>\n",
       "      <td>loan_status</td>\n",
       "      <td>Current status of the loan</td>\n",
       "    </tr>\n",
       "    <tr>\n",
       "      <th>13</th>\n",
       "      <td>purpose</td>\n",
       "      <td>A category provided by the borrower for the loan request.</td>\n",
       "    </tr>\n",
       "    <tr>\n",
       "      <th>14</th>\n",
       "      <td>title</td>\n",
       "      <td>The loan title provided by the borrower</td>\n",
       "    </tr>\n",
       "    <tr>\n",
       "      <th>15</th>\n",
       "      <td>zip_code</td>\n",
       "      <td>The first 3 numbers of the zip code provided by the borrower in the loan application.</td>\n",
       "    </tr>\n",
       "    <tr>\n",
       "      <th>16</th>\n",
       "      <td>addr_state</td>\n",
       "      <td>The state provided by the borrower in the loan application</td>\n",
       "    </tr>\n",
       "    <tr>\n",
       "      <th>17</th>\n",
       "      <td>dti</td>\n",
       "      <td>A ratio calculated using the borrower’s total monthly debt payments on the total debt obligations, excluding mortgage and the requested LC loan, divided by the borrower’s self-reported monthly inc...</td>\n",
       "    </tr>\n",
       "    <tr>\n",
       "      <th>18</th>\n",
       "      <td>earliest_cr_line</td>\n",
       "      <td>The month the borrower's earliest reported credit line was opened</td>\n",
       "    </tr>\n",
       "    <tr>\n",
       "      <th>19</th>\n",
       "      <td>open_acc</td>\n",
       "      <td>The number of open credit lines in the borrower's credit file.</td>\n",
       "    </tr>\n",
       "    <tr>\n",
       "      <th>20</th>\n",
       "      <td>pub_rec</td>\n",
       "      <td>Number of derogatory public records</td>\n",
       "    </tr>\n",
       "    <tr>\n",
       "      <th>21</th>\n",
       "      <td>revol_bal</td>\n",
       "      <td>Total credit revolving balance</td>\n",
       "    </tr>\n",
       "    <tr>\n",
       "      <th>22</th>\n",
       "      <td>revol_util</td>\n",
       "      <td>Revolving line utilization rate, or the amount of credit the borrower is using relative to all available revolving credit.</td>\n",
       "    </tr>\n",
       "    <tr>\n",
       "      <th>23</th>\n",
       "      <td>total_acc</td>\n",
       "      <td>The total number of credit lines currently in the borrower's credit file</td>\n",
       "    </tr>\n",
       "    <tr>\n",
       "      <th>24</th>\n",
       "      <td>initial_list_status</td>\n",
       "      <td>The initial listing status of the loan. Possible values are – W, F</td>\n",
       "    </tr>\n",
       "    <tr>\n",
       "      <th>25</th>\n",
       "      <td>application_type</td>\n",
       "      <td>Indicates whether the loan is an individual application or a joint application with two co-borrowers</td>\n",
       "    </tr>\n",
       "    <tr>\n",
       "      <th>26</th>\n",
       "      <td>mort_acc</td>\n",
       "      <td>Number of mortgage accounts.</td>\n",
       "    </tr>\n",
       "    <tr>\n",
       "      <th>27</th>\n",
       "      <td>pub_rec_bankruptcies</td>\n",
       "      <td>Number of public record bankruptcies</td>\n",
       "    </tr>\n",
       "  </tbody>\n",
       "</table>\n",
       "</div>"
      ],
      "text/plain": [
       "             LoanStatNew  \\\n",
       "0              loan_amnt   \n",
       "1                   term   \n",
       "2               int_rate   \n",
       "3            installment   \n",
       "4                  grade   \n",
       "5              sub_grade   \n",
       "6              emp_title   \n",
       "7             emp_length   \n",
       "8         home_ownership   \n",
       "9             annual_inc   \n",
       "10   verification_status   \n",
       "11               issue_d   \n",
       "12           loan_status   \n",
       "13               purpose   \n",
       "14                 title   \n",
       "15              zip_code   \n",
       "16            addr_state   \n",
       "17                   dti   \n",
       "18      earliest_cr_line   \n",
       "19              open_acc   \n",
       "20               pub_rec   \n",
       "21             revol_bal   \n",
       "22            revol_util   \n",
       "23             total_acc   \n",
       "24   initial_list_status   \n",
       "25      application_type   \n",
       "26              mort_acc   \n",
       "27  pub_rec_bankruptcies   \n",
       "\n",
       "                                                                                                                                                                                                Description  \n",
       "0                              The listed amount of the loan applied for by the borrower. If at some point in time, the credit department reduces the loan amount, then it will be reflected in this value.  \n",
       "1                                                                                                                      The number of payments on the loan. Values are in months and can be either 36 or 60.  \n",
       "2                                                                                                                                                                                 Interest Rate on the loan  \n",
       "3                                                                                                                                          The monthly payment owed by the borrower if the loan originates.  \n",
       "4                                                                                                                                                                                    LC assigned loan grade  \n",
       "5                                                                                                                                                                                 LC assigned loan subgrade  \n",
       "6                                                                                                                                       The job title supplied by the Borrower when applying for the loan.*  \n",
       "7                                                                        Employment length in years. Possible values are between 0 and 10 where 0 means less than one year and 10 means ten or more years.   \n",
       "8                                                     The home ownership status provided by the borrower during registration or obtained from the credit report. Our values are: RENT, OWN, MORTGAGE, OTHER  \n",
       "9                                                                                                                             The self-reported annual income provided by the borrower during registration.  \n",
       "10                                                                                                               Indicates if income was verified by LC, not verified, or if the income source was verified  \n",
       "11                                                                                                                                                                      The month which the loan was funded  \n",
       "12                                                                                                                                                                               Current status of the loan  \n",
       "13                                                                                                                                               A category provided by the borrower for the loan request.   \n",
       "14                                                                                                                                                                  The loan title provided by the borrower  \n",
       "15                                                                                                                    The first 3 numbers of the zip code provided by the borrower in the loan application.  \n",
       "16                                                                                                                                               The state provided by the borrower in the loan application  \n",
       "17  A ratio calculated using the borrower’s total monthly debt payments on the total debt obligations, excluding mortgage and the requested LC loan, divided by the borrower’s self-reported monthly inc...  \n",
       "18                                                                                                                                        The month the borrower's earliest reported credit line was opened  \n",
       "19                                                                                                                                           The number of open credit lines in the borrower's credit file.  \n",
       "20                                                                                                                                                                      Number of derogatory public records  \n",
       "21                                                                                                                                                                           Total credit revolving balance  \n",
       "22                                                                               Revolving line utilization rate, or the amount of credit the borrower is using relative to all available revolving credit.  \n",
       "23                                                                                                                                 The total number of credit lines currently in the borrower's credit file  \n",
       "24                                                                                                                                       The initial listing status of the loan. Possible values are – W, F  \n",
       "25                                                                                                     Indicates whether the loan is an individual application or a joint application with two co-borrowers  \n",
       "26                                                                                                                                                                             Number of mortgage accounts.  \n",
       "27                                                                                                                                                                     Number of public record bankruptcies  "
      ]
     },
     "execution_count": 74,
     "metadata": {},
     "output_type": "execute_result"
    }
   ],
   "source": [
    "dinfo"
   ]
  },
  {
   "cell_type": "code",
   "execution_count": 77,
   "metadata": {},
   "outputs": [
    {
     "data": {
      "text/plain": [
       "array(['Fully Paid', 'Charged Off'], dtype=object)"
      ]
     },
     "execution_count": 77,
     "metadata": {},
     "output_type": "execute_result"
    }
   ],
   "source": [
    "df['loan_status'].unique() #target column\n"
   ]
  },
  {
   "cell_type": "code",
   "execution_count": 6,
   "metadata": {},
   "outputs": [],
   "source": [
    "def info_feat(lsn):\n",
    "    pd.set_option('max_colwidth', 300)\n",
    "    return dinfo[dinfo['LoanStatNew'] == lsn]\n",
    "    "
   ]
  },
  {
   "cell_type": "code",
   "execution_count": 69,
   "metadata": {
    "collapsed": true
   },
   "outputs": [
    {
     "data": {
      "text/plain": [
       "Index(['loan_amnt', 'term', 'int_rate', 'installment', 'grade', 'sub_grade',\n",
       "       'emp_title', 'emp_length', 'home_ownership', 'annual_inc',\n",
       "       'verification_status', 'issue_d', 'loan_status', 'purpose', 'title',\n",
       "       'dti', 'earliest_cr_line', 'open_acc', 'pub_rec', 'revol_bal',\n",
       "       'revol_util', 'total_acc', 'initial_list_status', 'application_type',\n",
       "       'mort_acc', 'pub_rec_bankruptcies', 'address'],\n",
       "      dtype='object')"
      ]
     },
     "execution_count": 69,
     "metadata": {},
     "output_type": "execute_result"
    }
   ],
   "source": [
    "df.columns"
   ]
  },
  {
   "cell_type": "code",
   "execution_count": 7,
   "metadata": {},
   "outputs": [
    {
     "data": {
      "text/html": [
       "<div>\n",
       "<style scoped>\n",
       "    .dataframe tbody tr th:only-of-type {\n",
       "        vertical-align: middle;\n",
       "    }\n",
       "\n",
       "    .dataframe tbody tr th {\n",
       "        vertical-align: top;\n",
       "    }\n",
       "\n",
       "    .dataframe thead th {\n",
       "        text-align: right;\n",
       "    }\n",
       "</style>\n",
       "<table border=\"1\" class=\"dataframe\">\n",
       "  <thead>\n",
       "    <tr style=\"text-align: right;\">\n",
       "      <th></th>\n",
       "      <th>LoanStatNew</th>\n",
       "      <th>Description</th>\n",
       "    </tr>\n",
       "  </thead>\n",
       "  <tbody>\n",
       "    <tr>\n",
       "      <th>7</th>\n",
       "      <td>emp_length</td>\n",
       "      <td>Employment length in years. Possible values are between 0 and 10 where 0 means less than one year and 10 means ten or more years.</td>\n",
       "    </tr>\n",
       "  </tbody>\n",
       "</table>\n",
       "</div>"
      ],
      "text/plain": [
       "  LoanStatNew  \\\n",
       "7  emp_length   \n",
       "\n",
       "                                                                                                                          Description  \n",
       "7  Employment length in years. Possible values are between 0 and 10 where 0 means less than one year and 10 means ten or more years.   "
      ]
     },
     "execution_count": 7,
     "metadata": {},
     "output_type": "execute_result"
    }
   ],
   "source": [
    "info_feat('emp_length')"
   ]
  },
  {
   "cell_type": "code",
   "execution_count": null,
   "metadata": {},
   "outputs": [],
   "source": []
  },
  {
   "cell_type": "code",
   "execution_count": null,
   "metadata": {},
   "outputs": [],
   "source": []
  },
  {
   "cell_type": "code",
   "execution_count": 8,
   "metadata": {},
   "outputs": [],
   "source": [
    "df = pd.read_csv('../DATA/lending_club_loan_two.csv')"
   ]
  },
  {
   "cell_type": "code",
   "execution_count": 7,
   "metadata": {
    "collapsed": true
   },
   "outputs": [
    {
     "data": {
      "text/html": [
       "<div>\n",
       "<style scoped>\n",
       "    .dataframe tbody tr th:only-of-type {\n",
       "        vertical-align: middle;\n",
       "    }\n",
       "\n",
       "    .dataframe tbody tr th {\n",
       "        vertical-align: top;\n",
       "    }\n",
       "\n",
       "    .dataframe thead th {\n",
       "        text-align: right;\n",
       "    }\n",
       "</style>\n",
       "<table border=\"1\" class=\"dataframe\">\n",
       "  <thead>\n",
       "    <tr style=\"text-align: right;\">\n",
       "      <th></th>\n",
       "      <th>loan_amnt</th>\n",
       "      <th>term</th>\n",
       "      <th>int_rate</th>\n",
       "      <th>installment</th>\n",
       "      <th>grade</th>\n",
       "      <th>sub_grade</th>\n",
       "      <th>emp_title</th>\n",
       "      <th>emp_length</th>\n",
       "      <th>home_ownership</th>\n",
       "      <th>annual_inc</th>\n",
       "      <th>...</th>\n",
       "      <th>open_acc</th>\n",
       "      <th>pub_rec</th>\n",
       "      <th>revol_bal</th>\n",
       "      <th>revol_util</th>\n",
       "      <th>total_acc</th>\n",
       "      <th>initial_list_status</th>\n",
       "      <th>application_type</th>\n",
       "      <th>mort_acc</th>\n",
       "      <th>pub_rec_bankruptcies</th>\n",
       "      <th>address</th>\n",
       "    </tr>\n",
       "  </thead>\n",
       "  <tbody>\n",
       "    <tr>\n",
       "      <th>0</th>\n",
       "      <td>10000.0</td>\n",
       "      <td>36 months</td>\n",
       "      <td>11.44</td>\n",
       "      <td>329.48</td>\n",
       "      <td>B</td>\n",
       "      <td>B4</td>\n",
       "      <td>Marketing</td>\n",
       "      <td>10+ years</td>\n",
       "      <td>RENT</td>\n",
       "      <td>117000.0</td>\n",
       "      <td>...</td>\n",
       "      <td>16.0</td>\n",
       "      <td>0.0</td>\n",
       "      <td>36369.0</td>\n",
       "      <td>41.8</td>\n",
       "      <td>25.0</td>\n",
       "      <td>w</td>\n",
       "      <td>INDIVIDUAL</td>\n",
       "      <td>0.0</td>\n",
       "      <td>0.0</td>\n",
       "      <td>0174 Michelle Gateway\\nMendozaberg, OK 22690</td>\n",
       "    </tr>\n",
       "    <tr>\n",
       "      <th>1</th>\n",
       "      <td>8000.0</td>\n",
       "      <td>36 months</td>\n",
       "      <td>11.99</td>\n",
       "      <td>265.68</td>\n",
       "      <td>B</td>\n",
       "      <td>B5</td>\n",
       "      <td>Credit analyst</td>\n",
       "      <td>4 years</td>\n",
       "      <td>MORTGAGE</td>\n",
       "      <td>65000.0</td>\n",
       "      <td>...</td>\n",
       "      <td>17.0</td>\n",
       "      <td>0.0</td>\n",
       "      <td>20131.0</td>\n",
       "      <td>53.3</td>\n",
       "      <td>27.0</td>\n",
       "      <td>f</td>\n",
       "      <td>INDIVIDUAL</td>\n",
       "      <td>3.0</td>\n",
       "      <td>0.0</td>\n",
       "      <td>1076 Carney Fort Apt. 347\\nLoganmouth, SD 05113</td>\n",
       "    </tr>\n",
       "    <tr>\n",
       "      <th>2</th>\n",
       "      <td>15600.0</td>\n",
       "      <td>36 months</td>\n",
       "      <td>10.49</td>\n",
       "      <td>506.97</td>\n",
       "      <td>B</td>\n",
       "      <td>B3</td>\n",
       "      <td>Statistician</td>\n",
       "      <td>&lt; 1 year</td>\n",
       "      <td>RENT</td>\n",
       "      <td>43057.0</td>\n",
       "      <td>...</td>\n",
       "      <td>13.0</td>\n",
       "      <td>0.0</td>\n",
       "      <td>11987.0</td>\n",
       "      <td>92.2</td>\n",
       "      <td>26.0</td>\n",
       "      <td>f</td>\n",
       "      <td>INDIVIDUAL</td>\n",
       "      <td>0.0</td>\n",
       "      <td>0.0</td>\n",
       "      <td>87025 Mark Dale Apt. 269\\nNew Sabrina, WV 05113</td>\n",
       "    </tr>\n",
       "    <tr>\n",
       "      <th>3</th>\n",
       "      <td>7200.0</td>\n",
       "      <td>36 months</td>\n",
       "      <td>6.49</td>\n",
       "      <td>220.65</td>\n",
       "      <td>A</td>\n",
       "      <td>A2</td>\n",
       "      <td>Client Advocate</td>\n",
       "      <td>6 years</td>\n",
       "      <td>RENT</td>\n",
       "      <td>54000.0</td>\n",
       "      <td>...</td>\n",
       "      <td>6.0</td>\n",
       "      <td>0.0</td>\n",
       "      <td>5472.0</td>\n",
       "      <td>21.5</td>\n",
       "      <td>13.0</td>\n",
       "      <td>f</td>\n",
       "      <td>INDIVIDUAL</td>\n",
       "      <td>0.0</td>\n",
       "      <td>0.0</td>\n",
       "      <td>823 Reid Ford\\nDelacruzside, MA 00813</td>\n",
       "    </tr>\n",
       "    <tr>\n",
       "      <th>4</th>\n",
       "      <td>24375.0</td>\n",
       "      <td>60 months</td>\n",
       "      <td>17.27</td>\n",
       "      <td>609.33</td>\n",
       "      <td>C</td>\n",
       "      <td>C5</td>\n",
       "      <td>Destiny Management Inc.</td>\n",
       "      <td>9 years</td>\n",
       "      <td>MORTGAGE</td>\n",
       "      <td>55000.0</td>\n",
       "      <td>...</td>\n",
       "      <td>13.0</td>\n",
       "      <td>0.0</td>\n",
       "      <td>24584.0</td>\n",
       "      <td>69.8</td>\n",
       "      <td>43.0</td>\n",
       "      <td>f</td>\n",
       "      <td>INDIVIDUAL</td>\n",
       "      <td>1.0</td>\n",
       "      <td>0.0</td>\n",
       "      <td>679 Luna Roads\\nGreggshire, VA 11650</td>\n",
       "    </tr>\n",
       "  </tbody>\n",
       "</table>\n",
       "<p>5 rows × 27 columns</p>\n",
       "</div>"
      ],
      "text/plain": [
       "   loan_amnt        term  int_rate  installment grade sub_grade  \\\n",
       "0    10000.0   36 months     11.44       329.48     B        B4   \n",
       "1     8000.0   36 months     11.99       265.68     B        B5   \n",
       "2    15600.0   36 months     10.49       506.97     B        B3   \n",
       "3     7200.0   36 months      6.49       220.65     A        A2   \n",
       "4    24375.0   60 months     17.27       609.33     C        C5   \n",
       "\n",
       "                 emp_title emp_length home_ownership  annual_inc  ...  \\\n",
       "0                Marketing  10+ years           RENT    117000.0  ...   \n",
       "1          Credit analyst     4 years       MORTGAGE     65000.0  ...   \n",
       "2             Statistician   < 1 year           RENT     43057.0  ...   \n",
       "3          Client Advocate    6 years           RENT     54000.0  ...   \n",
       "4  Destiny Management Inc.    9 years       MORTGAGE     55000.0  ...   \n",
       "\n",
       "  open_acc pub_rec revol_bal revol_util total_acc  initial_list_status  \\\n",
       "0     16.0     0.0   36369.0       41.8      25.0                    w   \n",
       "1     17.0     0.0   20131.0       53.3      27.0                    f   \n",
       "2     13.0     0.0   11987.0       92.2      26.0                    f   \n",
       "3      6.0     0.0    5472.0       21.5      13.0                    f   \n",
       "4     13.0     0.0   24584.0       69.8      43.0                    f   \n",
       "\n",
       "  application_type  mort_acc  pub_rec_bankruptcies  \\\n",
       "0       INDIVIDUAL       0.0                   0.0   \n",
       "1       INDIVIDUAL       3.0                   0.0   \n",
       "2       INDIVIDUAL       0.0                   0.0   \n",
       "3       INDIVIDUAL       0.0                   0.0   \n",
       "4       INDIVIDUAL       1.0                   0.0   \n",
       "\n",
       "                                           address  \n",
       "0     0174 Michelle Gateway\\nMendozaberg, OK 22690  \n",
       "1  1076 Carney Fort Apt. 347\\nLoganmouth, SD 05113  \n",
       "2  87025 Mark Dale Apt. 269\\nNew Sabrina, WV 05113  \n",
       "3            823 Reid Ford\\nDelacruzside, MA 00813  \n",
       "4             679 Luna Roads\\nGreggshire, VA 11650  \n",
       "\n",
       "[5 rows x 27 columns]"
      ]
     },
     "execution_count": 7,
     "metadata": {},
     "output_type": "execute_result"
    }
   ],
   "source": [
    "df.head()"
   ]
  },
  {
   "cell_type": "code",
   "execution_count": 8,
   "metadata": {
    "collapsed": true
   },
   "outputs": [
    {
     "name": "stdout",
     "output_type": "stream",
     "text": [
      "<class 'pandas.core.frame.DataFrame'>\n",
      "RangeIndex: 396030 entries, 0 to 396029\n",
      "Data columns (total 27 columns):\n",
      " #   Column                Non-Null Count   Dtype  \n",
      "---  ------                --------------   -----  \n",
      " 0   loan_amnt             396030 non-null  float64\n",
      " 1   term                  396030 non-null  object \n",
      " 2   int_rate              396030 non-null  float64\n",
      " 3   installment           396030 non-null  float64\n",
      " 4   grade                 396030 non-null  object \n",
      " 5   sub_grade             396030 non-null  object \n",
      " 6   emp_title             373103 non-null  object \n",
      " 7   emp_length            377729 non-null  object \n",
      " 8   home_ownership        396030 non-null  object \n",
      " 9   annual_inc            396030 non-null  float64\n",
      " 10  verification_status   396030 non-null  object \n",
      " 11  issue_d               396030 non-null  object \n",
      " 12  loan_status           396030 non-null  object \n",
      " 13  purpose               396030 non-null  object \n",
      " 14  title                 394275 non-null  object \n",
      " 15  dti                   396030 non-null  float64\n",
      " 16  earliest_cr_line      396030 non-null  object \n",
      " 17  open_acc              396030 non-null  float64\n",
      " 18  pub_rec               396030 non-null  float64\n",
      " 19  revol_bal             396030 non-null  float64\n",
      " 20  revol_util            395754 non-null  float64\n",
      " 21  total_acc             396030 non-null  float64\n",
      " 22  initial_list_status   396030 non-null  object \n",
      " 23  application_type      396030 non-null  object \n",
      " 24  mort_acc              358235 non-null  float64\n",
      " 25  pub_rec_bankruptcies  395495 non-null  float64\n",
      " 26  address               396030 non-null  object \n",
      "dtypes: float64(12), object(15)\n",
      "memory usage: 81.6+ MB\n"
     ]
    }
   ],
   "source": [
    "df.info()"
   ]
  },
  {
   "cell_type": "code",
   "execution_count": 94,
   "metadata": {
    "collapsed": true
   },
   "outputs": [
    {
     "data": {
      "text/plain": [
       "0          36 months\n",
       "1          36 months\n",
       "2          36 months\n",
       "3          36 months\n",
       "4          60 months\n",
       "             ...    \n",
       "396025     60 months\n",
       "396026     36 months\n",
       "396027     36 months\n",
       "396028     60 months\n",
       "396029     36 months\n",
       "Name: term, Length: 396030, dtype: object"
      ]
     },
     "execution_count": 94,
     "metadata": {},
     "output_type": "execute_result"
    }
   ],
   "source": [
    "df['term']"
   ]
  },
  {
   "cell_type": "code",
   "execution_count": 92,
   "metadata": {},
   "outputs": [],
   "source": [
    "#def term_func(value):\n",
    "#    if value == ' 36 months':\n",
    "#        return 36\n",
    "#    else:\n",
    "#        return 60"
   ]
  },
  {
   "cell_type": "code",
   "execution_count": 95,
   "metadata": {},
   "outputs": [],
   "source": [
    "#df['term'] = df['term'].apply(term_func)"
   ]
  },
  {
   "cell_type": "code",
   "execution_count": 105,
   "metadata": {
    "collapsed": true
   },
   "outputs": [
    {
     "data": {
      "text/plain": [
       "<matplotlib.axes._subplots.AxesSubplot at 0x1f3add6d848>"
      ]
     },
     "execution_count": 105,
     "metadata": {},
     "output_type": "execute_result"
    },
    {
     "data": {
      "image/png": "[encoded data removed]",
      "text/plain": [
       "<Figure size 432x288 with 1 Axes>"
      ]
     },
     "metadata": {
      "needs_background": "light"
     },
     "output_type": "display_data"
    }
   ],
   "source": [
    "sns.countplot('term', data = df, hue = 'loan_status')"
   ]
  },
  {
   "cell_type": "code",
   "execution_count": 108,
   "metadata": {},
   "outputs": [
    {
     "data": {
      "text/plain": [
       "loan_amnt                   0\n",
       "term                        0\n",
       "int_rate                    0\n",
       "installment                 0\n",
       "grade                       0\n",
       "sub_grade                   0\n",
       "emp_title               22927\n",
       "emp_length              18301\n",
       "home_ownership              0\n",
       "annual_inc                  0\n",
       "verification_status         0\n",
       "issue_d                     0\n",
       "loan_status                 0\n",
       "purpose                     0\n",
       "title                    1755\n",
       "dti                         0\n",
       "earliest_cr_line            0\n",
       "open_acc                    0\n",
       "pub_rec                     0\n",
       "revol_bal                   0\n",
       "revol_util                276\n",
       "total_acc                   0\n",
       "initial_list_status         0\n",
       "application_type            0\n",
       "mort_acc                37795\n",
       "pub_rec_bankruptcies      535\n",
       "address                     0\n",
       "dtype: int64"
      ]
     },
     "execution_count": 108,
     "metadata": {},
     "output_type": "execute_result"
    }
   ],
   "source": [
    "df.isnull().sum()"
   ]
  },
  {
   "cell_type": "code",
   "execution_count": 9,
   "metadata": {},
   "outputs": [],
   "source": [
    "df['term'] = pd.get_dummies(df['term'], drop_first=True)"
   ]
  },
  {
   "cell_type": "code",
   "execution_count": 260,
   "metadata": {},
   "outputs": [
    {
     "name": "stdout",
     "output_type": "stream",
     "text": [
      "<class 'pandas.core.frame.DataFrame'>\n",
      "RangeIndex: 396030 entries, 0 to 396029\n",
      "Data columns (total 38 columns):\n",
      " #   Column                Non-Null Count   Dtype  \n",
      "---  ------                --------------   -----  \n",
      " 0   loan_amnt             396030 non-null  float64\n",
      " 1   term                  396030 non-null  uint8  \n",
      " 2   int_rate              396030 non-null  float64\n",
      " 3   installment           396030 non-null  float64\n",
      " 4   annual_inc            396030 non-null  float64\n",
      " 5   loan_status           396030 non-null  uint8  \n",
      " 6   dti                   396030 non-null  float64\n",
      " 7   earliest_cr_line      396030 non-null  object \n",
      " 8   open_acc              396030 non-null  float64\n",
      " 9   pub_rec               396030 non-null  float64\n",
      " 10  revol_bal             396030 non-null  float64\n",
      " 11  revol_util            395754 non-null  float64\n",
      " 12  total_acc             396030 non-null  float64\n",
      " 13  initial_list_status   396030 non-null  object \n",
      " 14  application_type      396030 non-null  object \n",
      " 15  mort_acc              358235 non-null  float64\n",
      " 16  pub_rec_bankruptcies  395495 non-null  float64\n",
      " 17  address               396030 non-null  object \n",
      " 18  A                     396030 non-null  uint8  \n",
      " 19  B                     396030 non-null  uint8  \n",
      " 20  C                     396030 non-null  uint8  \n",
      " 21  D                     396030 non-null  uint8  \n",
      " 22  E                     396030 non-null  uint8  \n",
      " 23  F                     396030 non-null  uint8  \n",
      " 24  G                     396030 non-null  uint8  \n",
      " 25  ANY                   396030 non-null  uint8  \n",
      " 26  MORTGAGE              396030 non-null  uint8  \n",
      " 27  NONE                  396030 non-null  uint8  \n",
      " 28  OTHER                 396030 non-null  uint8  \n",
      " 29  OWN                   396030 non-null  uint8  \n",
      " 30  RENT                  396030 non-null  uint8  \n",
      " 31  Source Verified       396030 non-null  uint8  \n",
      " 32  Verified              396030 non-null  uint8  \n",
      " 33  month                 396030 non-null  int64  \n",
      " 34  credit_card           396030 non-null  uint8  \n",
      " 35  debt_consolidation    396030 non-null  uint8  \n",
      " 36  home_improvement      396030 non-null  uint8  \n",
      " 37  other                 396030 non-null  uint8  \n",
      "dtypes: float64(12), int64(1), object(4), uint8(21)\n",
      "memory usage: 59.3+ MB\n"
     ]
    }
   ],
   "source": [
    "df_dummies1.info()"
   ]
  },
  {
   "cell_type": "code",
   "execution_count": 10,
   "metadata": {},
   "outputs": [],
   "source": [
    "dfgrade = pd.get_dummies(df['grade'], drop_first=False)"
   ]
  },
  {
   "cell_type": "code",
   "execution_count": 11,
   "metadata": {},
   "outputs": [],
   "source": [
    "#estou cirando df intermediarios para em caso de erro não ter que começar do inicio\n",
    "\n",
    "df_dummies = pd.concat([df,dfgrade],axis=1).drop('grade', axis = 1)"
   ]
  },
  {
   "cell_type": "code",
   "execution_count": 12,
   "metadata": {},
   "outputs": [],
   "source": [
    "#dropei subgrade pq eram muitas categorias\n",
    "\n",
    "df_dummies.drop('sub_grade', axis = 1, inplace = True)"
   ]
  },
  {
   "cell_type": "code",
   "execution_count": 13,
   "metadata": {},
   "outputs": [],
   "source": [
    "df_dummies.drop('emp_title', axis = 1, inplace = True)"
   ]
  },
  {
   "cell_type": "code",
   "execution_count": 14,
   "metadata": {},
   "outputs": [],
   "source": [
    "#dropei sobre emprego\n",
    "\n",
    "df_dummies.drop('emp_length', axis = 1, inplace = True)"
   ]
  },
  {
   "cell_type": "code",
   "execution_count": 15,
   "metadata": {},
   "outputs": [
    {
     "data": {
      "text/plain": [
       "array(['RENT', 'MORTGAGE', 'OWN', 'OTHER', 'NONE', 'ANY'], dtype=object)"
      ]
     },
     "execution_count": 15,
     "metadata": {},
     "output_type": "execute_result"
    }
   ],
   "source": [
    "df_dummies['home_ownership'].unique()"
   ]
  },
  {
   "cell_type": "code",
   "execution_count": 16,
   "metadata": {},
   "outputs": [],
   "source": [
    "dfownership = pd.get_dummies(df['home_ownership'])"
   ]
  },
  {
   "cell_type": "code",
   "execution_count": 17,
   "metadata": {},
   "outputs": [],
   "source": [
    "#dropei o home ownership\n",
    "\n",
    "df_dummies1 = pd.concat([df_dummies,dfownership],axis=1).drop('home_ownership', axis = 1)"
   ]
  },
  {
   "cell_type": "code",
   "execution_count": 18,
   "metadata": {},
   "outputs": [
    {
     "data": {
      "text/plain": [
       "array(['Not Verified', 'Source Verified', 'Verified'], dtype=object)"
      ]
     },
     "execution_count": 18,
     "metadata": {},
     "output_type": "execute_result"
    }
   ],
   "source": [
    "df_dummies1['verification_status'].unique()"
   ]
  },
  {
   "cell_type": "code",
   "execution_count": 19,
   "metadata": {},
   "outputs": [],
   "source": [
    "dfvs = pd.get_dummies(df['verification_status'], drop_first=True)"
   ]
  },
  {
   "cell_type": "code",
   "execution_count": 20,
   "metadata": {},
   "outputs": [],
   "source": [
    "# concatenando dummies de vs\n",
    "\n",
    "df_dummies1 = pd.concat([df_dummies1,dfvs],axis=1).drop('verification_status', axis = 1)"
   ]
  },
  {
   "cell_type": "code",
   "execution_count": 21,
   "metadata": {},
   "outputs": [],
   "source": [
    "df_dummies1['issue_d'] = pd.to_datetime(df_dummies1['issue_d'])"
   ]
  },
  {
   "cell_type": "code",
   "execution_count": 22,
   "metadata": {},
   "outputs": [],
   "source": [
    "df_dummies1['month'] = df_dummies1['issue_d'].apply(lambda x:x.month)"
   ]
  },
  {
   "cell_type": "code",
   "execution_count": 23,
   "metadata": {},
   "outputs": [],
   "source": [
    "df_dummies1.drop('issue_d', axis = 1, inplace = True)"
   ]
  },
  {
   "cell_type": "code",
   "execution_count": 24,
   "metadata": {},
   "outputs": [
    {
     "data": {
      "text/plain": [
       "array(['Fully Paid', 'Charged Off'], dtype=object)"
      ]
     },
     "execution_count": 24,
     "metadata": {},
     "output_type": "execute_result"
    }
   ],
   "source": [
    "df_dummies1['loan_status'].unique()"
   ]
  },
  {
   "cell_type": "code",
   "execution_count": 25,
   "metadata": {},
   "outputs": [],
   "source": [
    "df_dummies1['loan_status'] = pd.get_dummies(df_dummies1['loan_status'], drop_first=True)"
   ]
  },
  {
   "cell_type": "code",
   "execution_count": 240,
   "metadata": {
    "collapsed": true
   },
   "outputs": [
    {
     "data": {
      "text/plain": [
       "<matplotlib.axes._subplots.AxesSubplot at 0x1f385038708>"
      ]
     },
     "execution_count": 240,
     "metadata": {},
     "output_type": "execute_result"
    },
    {
     "data": {
      "image/png": "[encoded data removed]",
      "text/plain": [
       "<Figure size 1440x720 with 1 Axes>"
      ]
     },
     "metadata": {
      "needs_background": "light"
     },
     "output_type": "display_data"
    }
   ],
   "source": [
    "plt.figure(figsize = (20, 10))\n",
    "sns.countplot('purpose', data =df_dummies1)"
   ]
  },
  {
   "cell_type": "code",
   "execution_count": 220,
   "metadata": {},
   "outputs": [
    {
     "data": {
      "text/plain": [
       "array(['vacation', 'debt_consolidation', 'credit_card',\n",
       "       'home_improvement', 'small_business', 'major_purchase', 'other',\n",
       "       'medical', 'wedding', 'car', 'moving', 'house', 'educational',\n",
       "       'renewable_energy'], dtype=object)"
      ]
     },
     "execution_count": 220,
     "metadata": {},
     "output_type": "execute_result"
    }
   ],
   "source": [
    "df_dummies1['purpose'].unique()"
   ]
  },
  {
   "cell_type": "code",
   "execution_count": 26,
   "metadata": {},
   "outputs": [],
   "source": [
    "def cpurpose(p):\n",
    "    if p == 'debt_consolidation' or p == 'credit_card' or p == 'home_improvement':\n",
    "        return p\n",
    "    else:\n",
    "        return 'other'"
   ]
  },
  {
   "cell_type": "code",
   "execution_count": 27,
   "metadata": {},
   "outputs": [],
   "source": [
    "df_dummies1['purpose'] = df_dummies1['purpose'].apply(cpurpose)"
   ]
  },
  {
   "cell_type": "code",
   "execution_count": 28,
   "metadata": {},
   "outputs": [
    {
     "data": {
      "text/plain": [
       "array(['other', 'debt_consolidation', 'credit_card', 'home_improvement'],\n",
       "      dtype=object)"
      ]
     },
     "execution_count": 28,
     "metadata": {},
     "output_type": "execute_result"
    }
   ],
   "source": [
    "df_dummies1['purpose'].unique()"
   ]
  },
  {
   "cell_type": "code",
   "execution_count": 29,
   "metadata": {},
   "outputs": [],
   "source": [
    "dfp = pd.get_dummies(df_dummies1['purpose'])"
   ]
  },
  {
   "cell_type": "code",
   "execution_count": 30,
   "metadata": {},
   "outputs": [],
   "source": [
    "df_dummies1 = pd.concat([df_dummies1,dfp],axis=1).drop('purpose', axis = 1)"
   ]
  },
  {
   "cell_type": "code",
   "execution_count": 31,
   "metadata": {},
   "outputs": [
    {
     "data": {
      "text/plain": [
       "48818"
      ]
     },
     "execution_count": 31,
     "metadata": {},
     "output_type": "execute_result"
    }
   ],
   "source": [
    "len(df_dummies['title'].unique())"
   ]
  },
  {
   "cell_type": "code",
   "execution_count": 32,
   "metadata": {},
   "outputs": [],
   "source": [
    "df_dummies1.drop('title', axis = 1, inplace = True)"
   ]
  },
  {
   "cell_type": "code",
   "execution_count": 33,
   "metadata": {},
   "outputs": [
    {
     "data": {
      "text/html": [
       "<div>\n",
       "<style scoped>\n",
       "    .dataframe tbody tr th:only-of-type {\n",
       "        vertical-align: middle;\n",
       "    }\n",
       "\n",
       "    .dataframe tbody tr th {\n",
       "        vertical-align: top;\n",
       "    }\n",
       "\n",
       "    .dataframe thead th {\n",
       "        text-align: right;\n",
       "    }\n",
       "</style>\n",
       "<table border=\"1\" class=\"dataframe\">\n",
       "  <thead>\n",
       "    <tr style=\"text-align: right;\">\n",
       "      <th></th>\n",
       "      <th>LoanStatNew</th>\n",
       "      <th>Description</th>\n",
       "    </tr>\n",
       "  </thead>\n",
       "  <tbody>\n",
       "    <tr>\n",
       "      <th>18</th>\n",
       "      <td>earliest_cr_line</td>\n",
       "      <td>The month the borrower's earliest reported credit line was opened</td>\n",
       "    </tr>\n",
       "  </tbody>\n",
       "</table>\n",
       "</div>"
      ],
      "text/plain": [
       "         LoanStatNew  \\\n",
       "18  earliest_cr_line   \n",
       "\n",
       "                                                          Description  \n",
       "18  The month the borrower's earliest reported credit line was opened  "
      ]
     },
     "execution_count": 33,
     "metadata": {},
     "output_type": "execute_result"
    }
   ],
   "source": [
    "info_feat('earliest_cr_line')"
   ]
  },
  {
   "cell_type": "code",
   "execution_count": 142,
   "metadata": {},
   "outputs": [
    {
     "data": {
      "text/plain": [
       "loan_amnt                 0\n",
       "term                      0\n",
       "int_rate                  0\n",
       "installment               0\n",
       "annual_inc                0\n",
       "loan_status               0\n",
       "dti                       0\n",
       "earliest_cr_line          0\n",
       "open_acc                  0\n",
       "pub_rec                   0\n",
       "revol_bal                 0\n",
       "revol_util                0\n",
       "total_acc                 0\n",
       "initial_list_status       0\n",
       "pub_rec_bankruptcies    535\n",
       "A                         0\n",
       "B                         0\n",
       "C                         0\n",
       "D                         0\n",
       "E                         0\n",
       "F                         0\n",
       "G                         0\n",
       "ANY                       0\n",
       "MORTGAGE                  0\n",
       "NONE                      0\n",
       "OTHER                     0\n",
       "OWN                       0\n",
       "RENT                      0\n",
       "Source Verified           0\n",
       "Verified                  0\n",
       "month                     0\n",
       "credit_card               0\n",
       "debt_consolidation        0\n",
       "home_improvement          0\n",
       "other                     0\n",
       "dtype: int64"
      ]
     },
     "execution_count": 142,
     "metadata": {},
     "output_type": "execute_result"
    }
   ],
   "source": [
    "df_dummies1.isnull().sum()"
   ]
  },
  {
   "cell_type": "code",
   "execution_count": 141,
   "metadata": {},
   "outputs": [
    {
     "name": "stdout",
     "output_type": "stream",
     "text": [
      "<class 'pandas.core.frame.DataFrame'>\n",
      "RangeIndex: 396030 entries, 0 to 396029\n",
      "Data columns (total 35 columns):\n",
      " #   Column                Non-Null Count   Dtype  \n",
      "---  ------                --------------   -----  \n",
      " 0   loan_amnt             396030 non-null  float64\n",
      " 1   term                  396030 non-null  uint8  \n",
      " 2   int_rate              396030 non-null  float64\n",
      " 3   installment           396030 non-null  float64\n",
      " 4   annual_inc            396030 non-null  float64\n",
      " 5   loan_status           396030 non-null  uint8  \n",
      " 6   dti                   396030 non-null  float64\n",
      " 7   earliest_cr_line      396030 non-null  object \n",
      " 8   open_acc              396030 non-null  float64\n",
      " 9   pub_rec               396030 non-null  float64\n",
      " 10  revol_bal             396030 non-null  float64\n",
      " 11  revol_util            396030 non-null  float64\n",
      " 12  total_acc             396030 non-null  float64\n",
      " 13  initial_list_status   396030 non-null  uint8  \n",
      " 14  pub_rec_bankruptcies  395495 non-null  float64\n",
      " 15  A                     396030 non-null  uint8  \n",
      " 16  B                     396030 non-null  uint8  \n",
      " 17  C                     396030 non-null  uint8  \n",
      " 18  D                     396030 non-null  uint8  \n",
      " 19  E                     396030 non-null  uint8  \n",
      " 20  F                     396030 non-null  uint8  \n",
      " 21  G                     396030 non-null  uint8  \n",
      " 22  ANY                   396030 non-null  uint8  \n",
      " 23  MORTGAGE              396030 non-null  uint8  \n",
      " 24  NONE                  396030 non-null  uint8  \n",
      " 25  OTHER                 396030 non-null  uint8  \n",
      " 26  OWN                   396030 non-null  uint8  \n",
      " 27  RENT                  396030 non-null  uint8  \n",
      " 28  Source Verified       396030 non-null  uint8  \n",
      " 29  Verified              396030 non-null  uint8  \n",
      " 30  month                 396030 non-null  int64  \n",
      " 31  credit_card           396030 non-null  uint8  \n",
      " 32  debt_consolidation    396030 non-null  uint8  \n",
      " 33  home_improvement      396030 non-null  uint8  \n",
      " 34  other                 396030 non-null  uint8  \n",
      "dtypes: float64(11), int64(1), object(1), uint8(22)\n",
      "memory usage: 47.6+ MB\n"
     ]
    }
   ],
   "source": [
    "df_dummies1.info()"
   ]
  },
  {
   "cell_type": "code",
   "execution_count": 39,
   "metadata": {
    "collapsed": true
   },
   "outputs": [
    {
     "data": {
      "text/html": [
       "<div>\n",
       "<style scoped>\n",
       "    .dataframe tbody tr th:only-of-type {\n",
       "        vertical-align: middle;\n",
       "    }\n",
       "\n",
       "    .dataframe tbody tr th {\n",
       "        vertical-align: top;\n",
       "    }\n",
       "\n",
       "    .dataframe thead th {\n",
       "        text-align: right;\n",
       "    }\n",
       "</style>\n",
       "<table border=\"1\" class=\"dataframe\">\n",
       "  <thead>\n",
       "    <tr style=\"text-align: right;\">\n",
       "      <th></th>\n",
       "      <th>LoanStatNew</th>\n",
       "      <th>Description</th>\n",
       "    </tr>\n",
       "  </thead>\n",
       "  <tbody>\n",
       "    <tr>\n",
       "      <th>24</th>\n",
       "      <td>initial_list_status</td>\n",
       "      <td>The initial listing status of the loan. Possible values are – W, F</td>\n",
       "    </tr>\n",
       "  </tbody>\n",
       "</table>\n",
       "</div>"
      ],
      "text/plain": [
       "            LoanStatNew  \\\n",
       "24  initial_list_status   \n",
       "\n",
       "                                                           Description  \n",
       "24  The initial listing status of the loan. Possible values are – W, F  "
      ]
     },
     "execution_count": 39,
     "metadata": {},
     "output_type": "execute_result"
    }
   ],
   "source": [
    "info_feat('initial_list_status' )"
   ]
  },
  {
   "cell_type": "code",
   "execution_count": 44,
   "metadata": {
    "collapsed": true
   },
   "outputs": [
    {
     "data": {
      "text/plain": [
       "<matplotlib.axes._subplots.AxesSubplot at 0x1d3903ef408>"
      ]
     },
     "execution_count": 44,
     "metadata": {},
     "output_type": "execute_result"
    },
    {
     "data": {
      "image/png": "[encoded data removed]",
      "text/plain": [
       "<Figure size 432x288 with 1 Axes>"
      ]
     },
     "metadata": {
      "needs_background": "light"
     },
     "output_type": "display_data"
    }
   ],
   "source": [
    "sns.countplot('initial_list_status', data = df_dummies1, hue= 'loan_status')"
   ]
  },
  {
   "cell_type": "code",
   "execution_count": 47,
   "metadata": {},
   "outputs": [],
   "source": [
    "df_dummies1['initial_list_status'] = pd.get_dummies(df_dummies1['initial_list_status'], drop_first=True)"
   ]
  },
  {
   "cell_type": "code",
   "execution_count": 50,
   "metadata": {},
   "outputs": [
    {
     "data": {
      "text/plain": [
       "array(['INDIVIDUAL', 'JOINT', 'DIRECT_PAY'], dtype=object)"
      ]
     },
     "execution_count": 50,
     "metadata": {},
     "output_type": "execute_result"
    }
   ],
   "source": [
    "df_dummies1['application_type'].unique()\n",
    "\n"
   ]
  },
  {
   "cell_type": "code",
   "execution_count": 53,
   "metadata": {},
   "outputs": [],
   "source": [
    "df_dummies1.drop('application_type', axis = 1, inplace = True)"
   ]
  },
  {
   "cell_type": "code",
   "execution_count": 58,
   "metadata": {},
   "outputs": [],
   "source": [
    "df_dummies1.drop('address', axis = 1, inplace = True)"
   ]
  },
  {
   "cell_type": "code",
   "execution_count": 62,
   "metadata": {},
   "outputs": [],
   "source": [
    "#dealing with missing data (revol_util, mort_acc, pub_rec_bankruptcies    )"
   ]
  },
  {
   "cell_type": "code",
   "execution_count": 63,
   "metadata": {},
   "outputs": [
    {
     "data": {
      "text/html": [
       "<div>\n",
       "<style scoped>\n",
       "    .dataframe tbody tr th:only-of-type {\n",
       "        vertical-align: middle;\n",
       "    }\n",
       "\n",
       "    .dataframe tbody tr th {\n",
       "        vertical-align: top;\n",
       "    }\n",
       "\n",
       "    .dataframe thead th {\n",
       "        text-align: right;\n",
       "    }\n",
       "</style>\n",
       "<table border=\"1\" class=\"dataframe\">\n",
       "  <thead>\n",
       "    <tr style=\"text-align: right;\">\n",
       "      <th></th>\n",
       "      <th>LoanStatNew</th>\n",
       "      <th>Description</th>\n",
       "    </tr>\n",
       "  </thead>\n",
       "  <tbody>\n",
       "    <tr>\n",
       "      <th>26</th>\n",
       "      <td>mort_acc</td>\n",
       "      <td>Number of mortgage accounts.</td>\n",
       "    </tr>\n",
       "  </tbody>\n",
       "</table>\n",
       "</div>"
      ],
      "text/plain": [
       "   LoanStatNew                   Description\n",
       "26    mort_acc  Number of mortgage accounts."
      ]
     },
     "execution_count": 63,
     "metadata": {},
     "output_type": "execute_result"
    }
   ],
   "source": [
    "info_feat('mort_acc')"
   ]
  },
  {
   "cell_type": "code",
   "execution_count": 64,
   "metadata": {},
   "outputs": [],
   "source": [
    "#dropei mort_acc porque tinha muitos valores ausentes\n",
    "df_dummies1.drop('mort_acc', axis = 1, inplace = True)"
   ]
  },
  {
   "cell_type": "code",
   "execution_count": 65,
   "metadata": {},
   "outputs": [
    {
     "data": {
      "text/html": [
       "<div>\n",
       "<style scoped>\n",
       "    .dataframe tbody tr th:only-of-type {\n",
       "        vertical-align: middle;\n",
       "    }\n",
       "\n",
       "    .dataframe tbody tr th {\n",
       "        vertical-align: top;\n",
       "    }\n",
       "\n",
       "    .dataframe thead th {\n",
       "        text-align: right;\n",
       "    }\n",
       "</style>\n",
       "<table border=\"1\" class=\"dataframe\">\n",
       "  <thead>\n",
       "    <tr style=\"text-align: right;\">\n",
       "      <th></th>\n",
       "      <th>LoanStatNew</th>\n",
       "      <th>Description</th>\n",
       "    </tr>\n",
       "  </thead>\n",
       "  <tbody>\n",
       "    <tr>\n",
       "      <th>22</th>\n",
       "      <td>revol_util</td>\n",
       "      <td>Revolving line utilization rate, or the amount of credit the borrower is using relative to all available revolving credit.</td>\n",
       "    </tr>\n",
       "  </tbody>\n",
       "</table>\n",
       "</div>"
      ],
      "text/plain": [
       "   LoanStatNew  \\\n",
       "22  revol_util   \n",
       "\n",
       "                                                                                                                   Description  \n",
       "22  Revolving line utilization rate, or the amount of credit the borrower is using relative to all available revolving credit.  "
      ]
     },
     "execution_count": 65,
     "metadata": {},
     "output_type": "execute_result"
    }
   ],
   "source": [
    "#revol_util\n",
    "info_feat('revol_util')"
   ]
  },
  {
   "cell_type": "code",
   "execution_count": 76,
   "metadata": {},
   "outputs": [
    {
     "data": {
      "text/plain": [
       "<matplotlib.axes._subplots.AxesSubplot at 0x1d39036c508>"
      ]
     },
     "execution_count": 76,
     "metadata": {},
     "output_type": "execute_result"
    },
    {
     "data": {
      "image/png": "[encoded data removed]",
      "text/plain": [
       "<Figure size 432x288 with 1 Axes>"
      ]
     },
     "metadata": {
      "needs_background": "light"
     },
     "output_type": "display_data"
    }
   ],
   "source": [
    "sns.scatterplot('loan_status','revol_util', data = df_dummies1)"
   ]
  },
  {
   "cell_type": "code",
   "execution_count": 135,
   "metadata": {},
   "outputs": [
    {
     "data": {
      "text/plain": [
       "1686     NaN\n",
       "3019     NaN\n",
       "4931     NaN\n",
       "5382     NaN\n",
       "9016     NaN\n",
       "          ..\n",
       "385222   NaN\n",
       "388426   NaN\n",
       "390665   NaN\n",
       "395088   NaN\n",
       "395665   NaN\n",
       "Name: revol_util, Length: 276, dtype: float64"
      ]
     },
     "execution_count": 135,
     "metadata": {},
     "output_type": "execute_result"
    }
   ],
   "source": [
    "df_dummies1[df_dummies1['revol_util'].isnull()]['revol_util'].apply(nullrevol)"
   ]
  },
  {
   "cell_type": "code",
   "execution_count": 134,
   "metadata": {},
   "outputs": [],
   "source": [
    "from numpy import nan\n",
    "def nullrevol(x):\n",
    "    if x == np.NaN:\n",
    "        return 53.79174863677853\n",
    "    else:\n",
    "        return x\n",
    "    "
   ]
  },
  {
   "cell_type": "code",
   "execution_count": 130,
   "metadata": {},
   "outputs": [
    {
     "data": {
      "text/plain": [
       "0         41.8\n",
       "1         53.3\n",
       "2         92.2\n",
       "3         21.5\n",
       "4         69.8\n",
       "          ... \n",
       "396025    34.3\n",
       "396026    95.7\n",
       "396027    66.9\n",
       "396028    53.8\n",
       "396029    91.3\n",
       "Name: revol_util, Length: 396030, dtype: float64"
      ]
     },
     "execution_count": 130,
     "metadata": {},
     "output_type": "execute_result"
    }
   ],
   "source": [
    "df_dummies1['revol_util'].apply(nullrevol)"
   ]
  },
  {
   "cell_type": "code",
   "execution_count": 137,
   "metadata": {},
   "outputs": [
    {
     "name": "stdout",
     "output_type": "stream",
     "text": [
      "nan\n"
     ]
    }
   ],
   "source": [
    "print(df_dummies1['revol_util'].iloc[395665])"
   ]
  },
  {
   "cell_type": "code",
   "execution_count": 144,
   "metadata": {},
   "outputs": [
    {
     "data": {
      "text/plain": [
       "53.78974803076385"
      ]
     },
     "execution_count": 144,
     "metadata": {},
     "output_type": "execute_result"
    }
   ],
   "source": [
    "df_dummies1['revol_util'].mean()"
   ]
  },
  {
   "cell_type": "code",
   "execution_count": 140,
   "metadata": {},
   "outputs": [],
   "source": [
    "df_dummies1['revol_util'].replace(to_replace=df_dummies1['revol_util'].iloc[395665], value = 53.79174863677853, inplace = True)"
   ]
  },
  {
   "cell_type": "code",
   "execution_count": 143,
   "metadata": {},
   "outputs": [],
   "source": [
    "#revol_util usei metodo replace"
   ]
  },
  {
   "cell_type": "code",
   "execution_count": 151,
   "metadata": {},
   "outputs": [
    {
     "data": {
      "text/plain": [
       "<matplotlib.axes._subplots.AxesSubplot at 0x1d3a369fd88>"
      ]
     },
     "execution_count": 151,
     "metadata": {},
     "output_type": "execute_result"
    },
    {
     "data": {
      "image/png": "[encoded data removed]",
      "text/plain": [
       "<Figure size 432x288 with 1 Axes>"
      ]
     },
     "metadata": {
      "needs_background": "light"
     },
     "output_type": "display_data"
    }
   ],
   "source": [
    "sns.countplot('pub_rec_bankruptcies', data= df_dummies1, hue = 'loan_status')"
   ]
  },
  {
   "cell_type": "code",
   "execution_count": 161,
   "metadata": {},
   "outputs": [
    {
     "data": {
      "text/plain": [
       "912      NaN\n",
       "1236     NaN\n",
       "3314     NaN\n",
       "3767     NaN\n",
       "5821     NaN\n",
       "          ..\n",
       "393931   NaN\n",
       "394290   NaN\n",
       "394292   NaN\n",
       "395028   NaN\n",
       "395133   NaN\n",
       "Name: pub_rec_bankruptcies, Length: 535, dtype: float64"
      ]
     },
     "execution_count": 161,
     "metadata": {},
     "output_type": "execute_result"
    }
   ],
   "source": [
    "df_dummies1[df_dummies1['pub_rec_bankruptcies'].isnull()]['pub_rec_bankruptcies']"
   ]
  },
  {
   "cell_type": "code",
   "execution_count": 165,
   "metadata": {},
   "outputs": [],
   "source": [
    "df_dummies1['pub_rec_bankruptcies'].replace(to_replace=df_dummies1['pub_rec_bankruptcies'].iloc[1236], value = 0, inplace = True)"
   ]
  },
  {
   "cell_type": "code",
   "execution_count": null,
   "metadata": {},
   "outputs": [],
   "source": []
  },
  {
   "cell_type": "code",
   "execution_count": null,
   "metadata": {},
   "outputs": [],
   "source": []
  },
  {
   "cell_type": "code",
   "execution_count": 154,
   "metadata": {},
   "outputs": [],
   "source": [
    "def prb(x):\n",
    "    if x != 0:\n",
    "        return x\n",
    "    else:\n",
    "        return 1"
   ]
  },
  {
   "cell_type": "code",
   "execution_count": 167,
   "metadata": {},
   "outputs": [],
   "source": [
    "df_dummies1['pub_rec_bankruptcies'] = df_dummies1['pub_rec_bankruptcies'].apply(prb)"
   ]
  },
  {
   "cell_type": "code",
   "execution_count": 170,
   "metadata": {},
   "outputs": [
    {
     "data": {
      "text/plain": [
       "loan_amnt               0\n",
       "term                    0\n",
       "int_rate                0\n",
       "installment             0\n",
       "annual_inc              0\n",
       "loan_status             0\n",
       "dti                     0\n",
       "earliest_cr_line        0\n",
       "open_acc                0\n",
       "pub_rec                 0\n",
       "revol_bal               0\n",
       "revol_util              0\n",
       "total_acc               0\n",
       "initial_list_status     0\n",
       "pub_rec_bankruptcies    0\n",
       "A                       0\n",
       "B                       0\n",
       "C                       0\n",
       "D                       0\n",
       "E                       0\n",
       "F                       0\n",
       "G                       0\n",
       "ANY                     0\n",
       "MORTGAGE                0\n",
       "NONE                    0\n",
       "OTHER                   0\n",
       "OWN                     0\n",
       "RENT                    0\n",
       "Source Verified         0\n",
       "Verified                0\n",
       "month                   0\n",
       "credit_card             0\n",
       "debt_consolidation      0\n",
       "home_improvement        0\n",
       "other                   0\n",
       "dtype: int64"
      ]
     },
     "execution_count": 170,
     "metadata": {},
     "output_type": "execute_result"
    }
   ],
   "source": [
    "df_dummies1.isnull().sum()"
   ]
  },
  {
   "cell_type": "code",
   "execution_count": 184,
   "metadata": {},
   "outputs": [],
   "source": [
    "#train test split"
   ]
  },
  {
   "cell_type": "code",
   "execution_count": 193,
   "metadata": {},
   "outputs": [
    {
     "name": "stdout",
     "output_type": "stream",
     "text": [
      "<class 'pandas.core.frame.DataFrame'>\n",
      "RangeIndex: 396030 entries, 0 to 396029\n",
      "Data columns (total 34 columns):\n",
      " #   Column                Non-Null Count   Dtype  \n",
      "---  ------                --------------   -----  \n",
      " 0   loan_amnt             396030 non-null  float64\n",
      " 1   term                  396030 non-null  uint8  \n",
      " 2   int_rate              396030 non-null  float64\n",
      " 3   installment           396030 non-null  float64\n",
      " 4   annual_inc            396030 non-null  float64\n",
      " 5   loan_status           396030 non-null  uint8  \n",
      " 6   dti                   396030 non-null  float64\n",
      " 7   open_acc              396030 non-null  float64\n",
      " 8   pub_rec               396030 non-null  float64\n",
      " 9   revol_bal             396030 non-null  float64\n",
      " 10  revol_util            396030 non-null  float64\n",
      " 11  total_acc             396030 non-null  float64\n",
      " 12  initial_list_status   396030 non-null  uint8  \n",
      " 13  pub_rec_bankruptcies  396030 non-null  float64\n",
      " 14  A                     396030 non-null  uint8  \n",
      " 15  B                     396030 non-null  uint8  \n",
      " 16  C                     396030 non-null  uint8  \n",
      " 17  D                     396030 non-null  uint8  \n",
      " 18  E                     396030 non-null  uint8  \n",
      " 19  F                     396030 non-null  uint8  \n",
      " 20  G                     396030 non-null  uint8  \n",
      " 21  ANY                   396030 non-null  uint8  \n",
      " 22  MORTGAGE              396030 non-null  uint8  \n",
      " 23  NONE                  396030 non-null  uint8  \n",
      " 24  OTHER                 396030 non-null  uint8  \n",
      " 25  OWN                   396030 non-null  uint8  \n",
      " 26  RENT                  396030 non-null  uint8  \n",
      " 27  Source Verified       396030 non-null  uint8  \n",
      " 28  Verified              396030 non-null  uint8  \n",
      " 29  month                 396030 non-null  int64  \n",
      " 30  credit_card           396030 non-null  uint8  \n",
      " 31  debt_consolidation    396030 non-null  uint8  \n",
      " 32  home_improvement      396030 non-null  uint8  \n",
      " 33  other                 396030 non-null  uint8  \n",
      "dtypes: float64(11), int64(1), uint8(22)\n",
      "memory usage: 44.6 MB\n"
     ]
    }
   ],
   "source": [
    "#df_dummies1.drop('earliest_cr_line', axis = 1, inplace = True)\n",
    "df_dummies1.info()"
   ]
  },
  {
   "cell_type": "code",
   "execution_count": 210,
   "metadata": {},
   "outputs": [
    {
     "data": {
      "text/plain": [
       "(277221, 33)"
      ]
     },
     "execution_count": 210,
     "metadata": {},
     "output_type": "execute_result"
    }
   ],
   "source": [
    "X_train.shape"
   ]
  },
  {
   "cell_type": "code",
   "execution_count": 194,
   "metadata": {},
   "outputs": [],
   "source": [
    "from sklearn.model_selection import train_test_split"
   ]
  },
  {
   "cell_type": "code",
   "execution_count": 195,
   "metadata": {},
   "outputs": [],
   "source": [
    "X = df_dummies1.drop('loan_status', axis = 1).values\n",
    "y = df_dummies1['loan_status'].values"
   ]
  },
  {
   "cell_type": "code",
   "execution_count": 196,
   "metadata": {},
   "outputs": [],
   "source": [
    "X_train, X_test, y_train, y_test = train_test_split(X, y, test_size=0.3, random_state=42)"
   ]
  },
  {
   "cell_type": "code",
   "execution_count": 180,
   "metadata": {},
   "outputs": [],
   "source": [
    "#scalating data"
   ]
  },
  {
   "cell_type": "code",
   "execution_count": 197,
   "metadata": {},
   "outputs": [],
   "source": [
    "from sklearn.preprocessing import MinMaxScaler"
   ]
  },
  {
   "cell_type": "code",
   "execution_count": 198,
   "metadata": {},
   "outputs": [],
   "source": [
    "scaler = MinMaxScaler()"
   ]
  },
  {
   "cell_type": "code",
   "execution_count": 200,
   "metadata": {},
   "outputs": [],
   "source": [
    "X_train = scaler.fit_transform(X_train)"
   ]
  },
  {
   "cell_type": "code",
   "execution_count": 202,
   "metadata": {},
   "outputs": [],
   "source": [
    "X_test = scaler.transform(X_test)"
   ]
  },
  {
   "cell_type": "code",
   "execution_count": 203,
   "metadata": {},
   "outputs": [],
   "source": [
    "# CREATING THE MODEL!!!!!!!!!"
   ]
  },
  {
   "cell_type": "code",
   "execution_count": 204,
   "metadata": {},
   "outputs": [],
   "source": [
    "import tensorflow as tlf"
   ]
  },
  {
   "cell_type": "code",
   "execution_count": 205,
   "metadata": {},
   "outputs": [],
   "source": [
    "from tensorflow.keras.models import Sequential\n",
    "from tensorflow.keras.layers import Dense, Dropout"
   ]
  },
  {
   "cell_type": "code",
   "execution_count": 206,
   "metadata": {},
   "outputs": [],
   "source": [
    "from tensorflow.keras.callbacks import EarlyStopping"
   ]
  },
  {
   "cell_type": "code",
   "execution_count": 262,
   "metadata": {},
   "outputs": [],
   "source": [
    "es = EarlyStopping(monitor='val_loss', mode='min', verbose=1, patience=25)"
   ]
  },
  {
   "cell_type": "code",
   "execution_count": 211,
   "metadata": {},
   "outputs": [],
   "source": [
    "model = Sequential()\n",
    "model.add(Dense(units=78,activation='relu'))\n",
    "model.add(Dropout(0.5))\n",
    "\n",
    "model.add(Dense(units=39,activation='relu'))\n",
    "model.add(Dropout(0.5))\n",
    "\n",
    "model.add(Dense(units=19,activation='relu'))\n",
    "model.add(Dropout(0.5))\n",
    "\n",
    "model.add(Dense(units=1,activation='sigmoid'))\n",
    "model.compile(loss='binary_crossentropy', optimizer='adam')"
   ]
  },
  {
   "cell_type": "code",
   "execution_count": 212,
   "metadata": {},
   "outputs": [
    {
     "name": "stdout",
     "output_type": "stream",
     "text": [
      "Train on 277221 samples, validate on 118809 samples\n",
      "Epoch 1/500\n",
      "277221/277221 [==============================] - 19s 68us/sample - loss: 0.4817 - val_loss: 0.4646\n",
      "Epoch 2/500\n",
      "277221/277221 [==============================] - 18s 66us/sample - loss: 0.4695 - val_loss: 0.4634\n",
      "Epoch 3/500\n",
      "277221/277221 [==============================] - 18s 64us/sample - loss: 0.4678 - val_loss: 0.4620\n",
      "Epoch 4/500\n",
      "277221/277221 [==============================] - 17s 62us/sample - loss: 0.4668 - val_loss: 0.4612\n",
      "Epoch 5/500\n",
      "277221/277221 [==============================] - 17s 61us/sample - loss: 0.4666 - val_loss: 0.4612\n",
      "Epoch 6/500\n",
      "277221/277221 [==============================] - 18s 63us/sample - loss: 0.4670 - val_loss: 0.4608\n",
      "Epoch 7/500\n",
      "277221/277221 [==============================] - 18s 64us/sample - loss: 0.4661 - val_loss: 0.4602\n",
      "Epoch 8/500\n",
      "277221/277221 [==============================] - 19s 68us/sample - loss: 0.4660 - val_loss: 0.4629\n",
      "Epoch 9/500\n",
      "277221/277221 [==============================] - 17s 63us/sample - loss: 0.4661 - val_loss: 0.4622\n",
      "Epoch 10/500\n",
      "277221/277221 [==============================] - 17s 61us/sample - loss: 0.4662 - val_loss: 0.4600\n",
      "Epoch 11/500\n",
      "277221/277221 [==============================] - 17s 61us/sample - loss: 0.4657 - val_loss: 0.4597\n",
      "Epoch 12/500\n",
      "277221/277221 [==============================] - 16s 59us/sample - loss: 0.4658 - val_loss: 0.4597\n",
      "Epoch 13/500\n",
      "277221/277221 [==============================] - 17s 61us/sample - loss: 0.4660 - val_loss: 0.4595\n",
      "Epoch 14/500\n",
      "277221/277221 [==============================] - 18s 66us/sample - loss: 0.4655 - val_loss: 0.4603\n",
      "Epoch 15/500\n",
      "277221/277221 [==============================] - 19s 70us/sample - loss: 0.4656 - val_loss: 0.4595\n",
      "Epoch 16/500\n",
      "277221/277221 [==============================] - 18s 64us/sample - loss: 0.4663 - val_loss: 0.4601\n",
      "Epoch 17/500\n",
      "277221/277221 [==============================] - 16s 59us/sample - loss: 0.4655 - val_loss: 0.4600\n",
      "Epoch 18/500\n",
      "277221/277221 [==============================] - 18s 64us/sample - loss: 0.4656 - val_loss: 0.4594\n",
      "Epoch 19/500\n",
      "277221/277221 [==============================] - 17s 62us/sample - loss: 0.4654 - val_loss: 0.4588\n",
      "Epoch 20/500\n",
      "277221/277221 [==============================] - 17s 60us/sample - loss: 0.4650 - val_loss: 0.4588\n",
      "Epoch 21/500\n",
      "277221/277221 [==============================] - 16s 59us/sample - loss: 0.4653 - val_loss: 0.4598\n",
      "Epoch 22/500\n",
      "277221/277221 [==============================] - 17s 60us/sample - loss: 0.4651 - val_loss: 0.4582\n",
      "Epoch 23/500\n",
      "277221/277221 [==============================] - 17s 60us/sample - loss: 0.4654 - val_loss: 0.4587\n",
      "Epoch 24/500\n",
      "277221/277221 [==============================] - 17s 62us/sample - loss: 0.4652 - val_loss: 0.4574\n",
      "Epoch 25/500\n",
      "277221/277221 [==============================] - 16s 59us/sample - loss: 0.4647 - val_loss: 0.4580\n",
      "Epoch 26/500\n",
      "277221/277221 [==============================] - 17s 62us/sample - loss: 0.4653 - val_loss: 0.4589\n",
      "Epoch 27/500\n",
      "277221/277221 [==============================] - 17s 60us/sample - loss: 0.4648 - val_loss: 0.4590\n",
      "Epoch 28/500\n",
      "277221/277221 [==============================] - 17s 60us/sample - loss: 0.4652 - val_loss: 0.4581\n",
      "Epoch 29/500\n",
      "277221/277221 [==============================] - 16s 59us/sample - loss: 0.4648 - val_loss: 0.4576\n",
      "Epoch 30/500\n",
      "277221/277221 [==============================] - 17s 61us/sample - loss: 0.4650 - val_loss: 0.4595\n",
      "Epoch 31/500\n",
      "277221/277221 [==============================] - 16s 59us/sample - loss: 0.4653 - val_loss: 0.4596\n",
      "Epoch 32/500\n",
      "277221/277221 [==============================] - 16s 59us/sample - loss: 0.4650 - val_loss: 0.4589\n",
      "Epoch 33/500\n",
      "277221/277221 [==============================] - 17s 60us/sample - loss: 0.4650 - val_loss: 0.4581\n",
      "Epoch 34/500\n",
      "277221/277221 [==============================] - 17s 61us/sample - loss: 0.4646 - val_loss: 0.4577\n",
      "Epoch 35/500\n",
      "277221/277221 [==============================] - 17s 62us/sample - loss: 0.4649 - val_loss: 0.4577\n",
      "Epoch 36/500\n",
      "277221/277221 [==============================] - 17s 63us/sample - loss: 0.4648 - val_loss: 0.4577\n",
      "Epoch 37/500\n",
      "277221/277221 [==============================] - 17s 61us/sample - loss: 0.4651 - val_loss: 0.4579\n",
      "Epoch 38/500\n",
      "277221/277221 [==============================] - 20s 71us/sample - loss: 0.4651 - val_loss: 0.4596\n",
      "Epoch 39/500\n",
      "277221/277221 [==============================] - 23s 84us/sample - loss: 0.4649 - val_loss: 0.4576\n",
      "Epoch 40/500\n",
      "277221/277221 [==============================] - 20s 72us/sample - loss: 0.4648 - val_loss: 0.4579\n",
      "Epoch 41/500\n",
      "277221/277221 [==============================] - 16s 59us/sample - loss: 0.4645 - val_loss: 0.4599\n",
      "Epoch 42/500\n",
      "277221/277221 [==============================] - 18s 63us/sample - loss: 0.4646 - val_loss: 0.4570\n",
      "Epoch 43/500\n",
      "277221/277221 [==============================] - 17s 62us/sample - loss: 0.4646 - val_loss: 0.4572\n",
      "Epoch 44/500\n",
      "277221/277221 [==============================] - 17s 63us/sample - loss: 0.4645 - val_loss: 0.4579\n",
      "Epoch 45/500\n",
      "277221/277221 [==============================] - 17s 63us/sample - loss: 0.4644 - val_loss: 0.4574\n",
      "Epoch 46/500\n",
      "277221/277221 [==============================] - 18s 67us/sample - loss: 0.4647 - val_loss: 0.4592\n",
      "Epoch 47/500\n",
      "277221/277221 [==============================] - 17s 62us/sample - loss: 0.4647 - val_loss: 0.4591\n",
      "Epoch 48/500\n",
      "277221/277221 [==============================] - 17s 60us/sample - loss: 0.4644 - val_loss: 0.4582\n",
      "Epoch 49/500\n",
      "277221/277221 [==============================] - 17s 61us/sample - loss: 0.4648 - val_loss: 0.4583\n",
      "Epoch 50/500\n",
      "277221/277221 [==============================] - 18s 65us/sample - loss: 0.4649 - val_loss: 0.4575\n",
      "Epoch 51/500\n",
      "277221/277221 [==============================] - 18s 64us/sample - loss: 0.4647 - val_loss: 0.4586\n",
      "Epoch 52/500\n",
      "277221/277221 [==============================] - 17s 61us/sample - loss: 0.4646 - val_loss: 0.4567\n",
      "Epoch 53/500\n",
      "277221/277221 [==============================] - 17s 60us/sample - loss: 0.4646 - val_loss: 0.4566\n",
      "Epoch 54/500\n",
      "277221/277221 [==============================] - 17s 60us/sample - loss: 0.4644 - val_loss: 0.4569\n",
      "Epoch 55/500\n",
      "277221/277221 [==============================] - 17s 60us/sample - loss: 0.4647 - val_loss: 0.4579\n",
      "Epoch 56/500\n",
      "277221/277221 [==============================] - 17s 61us/sample - loss: 0.4647 - val_loss: 0.4582\n",
      "Epoch 57/500\n",
      "277221/277221 [==============================] - 16s 59us/sample - loss: 0.4645 - val_loss: 0.4573\n",
      "Epoch 58/500\n",
      "277221/277221 [==============================] - 17s 60us/sample - loss: 0.4647 - val_loss: 0.4577\n",
      "Epoch 59/500\n",
      "277221/277221 [==============================] - 16s 59us/sample - loss: 0.4643 - val_loss: 0.4566\n",
      "Epoch 60/500\n",
      "277221/277221 [==============================] - 17s 62us/sample - loss: 0.4641 - val_loss: 0.4567\n",
      "Epoch 61/500\n",
      "277221/277221 [==============================] - 17s 63us/sample - loss: 0.4651 - val_loss: 0.4569\n",
      "Epoch 62/500\n",
      "277221/277221 [==============================] - 15s 55us/sample - loss: 0.4645 - val_loss: 0.4600\n",
      "Epoch 63/500\n",
      "277221/277221 [==============================] - 16s 57us/sample - loss: 0.4646 - val_loss: 0.4576\n",
      "Epoch 64/500\n",
      "277221/277221 [==============================] - 16s 58us/sample - loss: 0.4644 - val_loss: 0.4571\n",
      "Epoch 65/500\n",
      "277221/277221 [==============================] - 17s 61us/sample - loss: 0.4644 - val_loss: 0.4585\n",
      "Epoch 66/500\n",
      "277221/277221 [==============================] - 17s 63us/sample - loss: 0.4642 - val_loss: 0.4575\n",
      "Epoch 67/500\n",
      "277221/277221 [==============================] - 18s 63us/sample - loss: 0.4648 - val_loss: 0.4565\n",
      "Epoch 68/500\n",
      "277221/277221 [==============================] - 18s 63us/sample - loss: 0.4644 - val_loss: 0.4582\n",
      "Epoch 69/500\n",
      "277221/277221 [==============================] - 17s 61us/sample - loss: 0.4649 - val_loss: 0.4589\n",
      "Epoch 70/500\n",
      "277221/277221 [==============================] - 18s 64us/sample - loss: 0.4644 - val_loss: 0.4568\n",
      "Epoch 71/500\n",
      "277221/277221 [==============================] - 17s 63us/sample - loss: 0.4645 - val_loss: 0.4568\n",
      "Epoch 72/500\n",
      "277221/277221 [==============================] - 18s 64us/sample - loss: 0.4644 - val_loss: 0.4572\n",
      "Epoch 73/500\n"
     ]
    },
    {
     "name": "stdout",
     "output_type": "stream",
     "text": [
      "277221/277221 [==============================] - 17s 61us/sample - loss: 0.4640 - val_loss: 0.4585\n",
      "Epoch 74/500\n",
      "277221/277221 [==============================] - 16s 58us/sample - loss: 0.4645 - val_loss: 0.4579\n",
      "Epoch 75/500\n",
      "277221/277221 [==============================] - 16s 57us/sample - loss: 0.4647 - val_loss: 0.4571\n",
      "Epoch 76/500\n",
      "277221/277221 [==============================] - 16s 59us/sample - loss: 0.4644 - val_loss: 0.4579\n",
      "Epoch 77/500\n",
      "277221/277221 [==============================] - 16s 59us/sample - loss: 0.4641 - val_loss: 0.4583\n",
      "Epoch 78/500\n",
      "277221/277221 [==============================] - 17s 61us/sample - loss: 0.4640 - val_loss: 0.4585\n",
      "Epoch 79/500\n",
      "277221/277221 [==============================] - 17s 60us/sample - loss: 0.4648 - val_loss: 0.4569\n",
      "Epoch 80/500\n",
      "277221/277221 [==============================] - 16s 57us/sample - loss: 0.4645 - val_loss: 0.4577\n",
      "Epoch 81/500\n",
      "277221/277221 [==============================] - 16s 58us/sample - loss: 0.4640 - val_loss: 0.4577\n",
      "Epoch 82/500\n",
      "277221/277221 [==============================] - 18s 63us/sample - loss: 0.4641 - val_loss: 0.4573\n",
      "Epoch 83/500\n",
      "277221/277221 [==============================] - 17s 60us/sample - loss: 0.4643 - val_loss: 0.4574\n",
      "Epoch 84/500\n",
      "277221/277221 [==============================] - 16s 58us/sample - loss: 0.4643 - val_loss: 0.4570\n",
      "Epoch 85/500\n",
      "277221/277221 [==============================] - 17s 61us/sample - loss: 0.4639 - val_loss: 0.4576\n",
      "Epoch 86/500\n",
      "277221/277221 [==============================] - 18s 67us/sample - loss: 0.4640 - val_loss: 0.4594\n",
      "Epoch 87/500\n",
      "277221/277221 [==============================] - 20s 72us/sample - loss: 0.4645 - val_loss: 0.4578\n",
      "Epoch 88/500\n",
      "277221/277221 [==============================] - 16s 59us/sample - loss: 0.4647 - val_loss: 0.4582\n",
      "Epoch 89/500\n",
      "277221/277221 [==============================] - 17s 60us/sample - loss: 0.4642 - val_loss: 0.4586\n",
      "Epoch 90/500\n",
      "277221/277221 [==============================] - 17s 62us/sample - loss: 0.4642 - val_loss: 0.4569\n",
      "Epoch 91/500\n",
      "277221/277221 [==============================] - 17s 60us/sample - loss: 0.4644 - val_loss: 0.4602\n",
      "Epoch 92/500\n",
      "277221/277221 [==============================] - 17s 60us/sample - loss: 0.4640 - val_loss: 0.4563\n",
      "Epoch 93/500\n",
      "277221/277221 [==============================] - 16s 59us/sample - loss: 0.4642 - val_loss: 0.4569\n",
      "Epoch 94/500\n",
      "277221/277221 [==============================] - 17s 61us/sample - loss: 0.4641 - val_loss: 0.4570\n",
      "Epoch 95/500\n",
      "277221/277221 [==============================] - 17s 63us/sample - loss: 0.4637 - val_loss: 0.4561\n",
      "Epoch 96/500\n",
      "277221/277221 [==============================] - 17s 61us/sample - loss: 0.4638 - val_loss: 0.4585\n",
      "Epoch 97/500\n",
      "277221/277221 [==============================] - 17s 61us/sample - loss: 0.4644 - val_loss: 0.4570\n",
      "Epoch 98/500\n",
      "277221/277221 [==============================] - 17s 63us/sample - loss: 0.4642 - val_loss: 0.4567\n",
      "Epoch 99/500\n",
      "277221/277221 [==============================] - 17s 60us/sample - loss: 0.4642 - val_loss: 0.4557\n",
      "Epoch 100/500\n",
      "277221/277221 [==============================] - 16s 59us/sample - loss: 0.4636 - val_loss: 0.4578\n",
      "Epoch 101/500\n",
      "277221/277221 [==============================] - 17s 60us/sample - loss: 0.4640 - val_loss: 0.4566\n",
      "Epoch 102/500\n",
      "277221/277221 [==============================] - 17s 62us/sample - loss: 0.4635 - val_loss: 0.4563\n",
      "Epoch 103/500\n",
      "277221/277221 [==============================] - 17s 61us/sample - loss: 0.4641 - val_loss: 0.4589\n",
      "Epoch 104/500\n",
      "277221/277221 [==============================] - 17s 62us/sample - loss: 0.4641 - val_loss: 0.4572\n",
      "Epoch 105/500\n",
      "277221/277221 [==============================] - 17s 60us/sample - loss: 0.4644 - val_loss: 0.4574\n",
      "Epoch 106/500\n",
      "277221/277221 [==============================] - 17s 61us/sample - loss: 0.4647 - val_loss: 0.4594\n",
      "Epoch 107/500\n",
      "277221/277221 [==============================] - 17s 61us/sample - loss: 0.4642 - val_loss: 0.4572\n",
      "Epoch 108/500\n",
      "277221/277221 [==============================] - 16s 59us/sample - loss: 0.4637 - val_loss: 0.4564\n",
      "Epoch 109/500\n",
      "277221/277221 [==============================] - 17s 60us/sample - loss: 0.4648 - val_loss: 0.4566\n",
      "Epoch 110/500\n",
      "277221/277221 [==============================] - 17s 61us/sample - loss: 0.4645 - val_loss: 0.4572\n",
      "Epoch 111/500\n",
      "277221/277221 [==============================] - 17s 63us/sample - loss: 0.4641 - val_loss: 0.4572\n",
      "Epoch 112/500\n",
      "277221/277221 [==============================] - 17s 62us/sample - loss: 0.4645 - val_loss: 0.4570\n",
      "Epoch 113/500\n",
      "277221/277221 [==============================] - 21s 74us/sample - loss: 0.4644 - val_loss: 0.4569\n",
      "Epoch 114/500\n",
      "277221/277221 [==============================] - 21s 77us/sample - loss: 0.4642 - val_loss: 0.4572\n",
      "Epoch 115/500\n",
      "277221/277221 [==============================] - 17s 62us/sample - loss: 0.4645 - val_loss: 0.4572\n",
      "Epoch 116/500\n",
      "277221/277221 [==============================] - 17s 62us/sample - loss: 0.4644 - val_loss: 0.4564\n",
      "Epoch 117/500\n",
      "277221/277221 [==============================] - 17s 63us/sample - loss: 0.4643 - val_loss: 0.4573\n",
      "Epoch 118/500\n",
      "277221/277221 [==============================] - 18s 63us/sample - loss: 0.4640 - val_loss: 0.4581\n",
      "Epoch 119/500\n",
      "277221/277221 [==============================] - 18s 65us/sample - loss: 0.4643 - val_loss: 0.4571\n",
      "Epoch 120/500\n",
      "277221/277221 [==============================] - 17s 62us/sample - loss: 0.4637 - val_loss: 0.4589\n",
      "Epoch 121/500\n",
      "277221/277221 [==============================] - 19s 68us/sample - loss: 0.4644 - val_loss: 0.4566\n",
      "Epoch 122/500\n",
      "277221/277221 [==============================] - 17s 62us/sample - loss: 0.4643 - val_loss: 0.4580\n",
      "Epoch 123/500\n",
      "277221/277221 [==============================] - 17s 61us/sample - loss: 0.4638 - val_loss: 0.4563\n",
      "Epoch 124/500\n",
      "277221/277221 [==============================] - 16s 59us/sample - loss: 0.4638 - val_loss: 0.4583\n",
      "Epoch 00124: early stopping\n"
     ]
    },
    {
     "data": {
      "text/plain": [
       "<tensorflow.python.keras.callbacks.History at 0x1d3a2318dc8>"
      ]
     },
     "execution_count": 212,
     "metadata": {},
     "output_type": "execute_result"
    }
   ],
   "source": [
    "model.fit(x = X_train, y= y_train, epochs = 500, validation_data = (X_test, y_test), verbose = 1, callbacks=[es])"
   ]
  },
  {
   "cell_type": "code",
   "execution_count": 215,
   "metadata": {},
   "outputs": [
    {
     "data": {
      "text/plain": [
       "<matplotlib.axes._subplots.AxesSubplot at 0x1d3a2a03408>"
      ]
     },
     "execution_count": 215,
     "metadata": {},
     "output_type": "execute_result"
    },
    {
     "data": {
      "image/png": "[encoded data removed]",
      "text/plain": [
       "<Figure size 432x288 with 1 Axes>"
      ]
     },
     "metadata": {
      "needs_background": "light"
     },
     "output_type": "display_data"
    }
   ],
   "source": [
    "pd.DataFrame(model.history.history).plot()"
   ]
  },
  {
   "cell_type": "code",
   "execution_count": 216,
   "metadata": {},
   "outputs": [],
   "source": [
    "from sklearn.metrics import classification_report, confusion_matrix"
   ]
  },
  {
   "cell_type": "code",
   "execution_count": 218,
   "metadata": {},
   "outputs": [],
   "source": [
    "pred = model.predict(X_test)"
   ]
  },
  {
   "cell_type": "code",
   "execution_count": 252,
   "metadata": {},
   "outputs": [
    {
     "name": "stderr",
     "output_type": "stream",
     "text": [
      "C:\\ProgramData\\Anaconda3\\lib\\site-packages\\sklearn\\metrics\\_classification.py:1272: UndefinedMetricWarning: Precision and F-score are ill-defined and being set to 0.0 in labels with no predicted samples. Use `zero_division` parameter to control this behavior.\n",
      "  _warn_prf(average, modifier, msg_start, len(result))\n"
     ]
    },
    {
     "name": "stdout",
     "output_type": "stream",
     "text": [
      "              precision    recall  f1-score   support\n",
      "\n",
      "           0       0.00      0.00      0.00     23370\n",
      "           1       0.80      1.00      0.89     95439\n",
      "\n",
      "    accuracy                           0.80    118809\n",
      "   macro avg       0.40      0.50      0.45    118809\n",
      "weighted avg       0.65      0.80      0.72    118809\n",
      "\n",
      "\n",
      "\n",
      "[[    0 23370]\n",
      " [    0 95439]]\n"
     ]
    }
   ],
   "source": [
    "print(classification_report(y_test,dfpred))\n",
    "print('\\n')\n",
    "print(confusion_matrix(y_test, dfpred))"
   ]
  },
  {
   "cell_type": "code",
   "execution_count": 268,
   "metadata": {},
   "outputs": [],
   "source": [
    "dfpred = pd.DataFrame(pred)"
   ]
  },
  {
   "cell_type": "code",
   "execution_count": 229,
   "metadata": {},
   "outputs": [],
   "source": [
    "def predfinal(x):\n",
    "    if x > 0.5:\n",
    "        return 1\n",
    "    else:\n",
    "        return 0"
   ]
  },
  {
   "cell_type": "code",
   "execution_count": 241,
   "metadata": {},
   "outputs": [],
   "source": [
    "dfpred.iloc[0] = 1"
   ]
  },
  {
   "cell_type": "code",
   "execution_count": 242,
   "metadata": {},
   "outputs": [
    {
     "data": {
      "text/plain": [
       "0    1.0\n",
       "Name: 0, dtype: float32"
      ]
     },
     "execution_count": 242,
     "metadata": {},
     "output_type": "execute_result"
    }
   ],
   "source": [
    "dfpred.iloc[0]"
   ]
  },
  {
   "cell_type": "code",
   "execution_count": 269,
   "metadata": {},
   "outputs": [],
   "source": [
    "dfpred[0] = dfpred[0].apply(predfinal)"
   ]
  },
  {
   "cell_type": "code",
   "execution_count": 261,
   "metadata": {},
   "outputs": [
    {
     "data": {
      "text/html": [
       "<div>\n",
       "<style scoped>\n",
       "    .dataframe tbody tr th:only-of-type {\n",
       "        vertical-align: middle;\n",
       "    }\n",
       "\n",
       "    .dataframe tbody tr th {\n",
       "        vertical-align: top;\n",
       "    }\n",
       "\n",
       "    .dataframe thead th {\n",
       "        text-align: right;\n",
       "    }\n",
       "</style>\n",
       "<table border=\"1\" class=\"dataframe\">\n",
       "  <thead>\n",
       "    <tr style=\"text-align: right;\">\n",
       "      <th></th>\n",
       "      <th>0</th>\n",
       "    </tr>\n",
       "  </thead>\n",
       "  <tbody>\n",
       "  </tbody>\n",
       "</table>\n",
       "</div>"
      ],
      "text/plain": [
       "Empty DataFrame\n",
       "Columns: [0]\n",
       "Index: []"
      ]
     },
     "execution_count": 261,
     "metadata": {},
     "output_type": "execute_result"
    }
   ],
   "source": [
    "dfpred[dfpred[0] < 0.5]"
   ]
  },
  {
   "cell_type": "code",
   "execution_count": 263,
   "metadata": {},
   "outputs": [],
   "source": [
    "model = Sequential()\n",
    "model.add(Dense(units=78,activation='relu'))\n",
    "model.add(Dropout(0.5))\n",
    "\n",
    "model.add(Dense(units=39,activation='relu'))\n",
    "model.add(Dropout(0.5))\n",
    "\n",
    "model.add(Dense(units=19,activation='relu'))\n",
    "model.add(Dropout(0.5))\n",
    "\n",
    "model.add(Dense(units=1,activation='sigmoid'))\n",
    "model.compile(loss='binary_crossentropy', optimizer='adam')"
   ]
  },
  {
   "cell_type": "code",
   "execution_count": 264,
   "metadata": {},
   "outputs": [
    {
     "name": "stdout",
     "output_type": "stream",
     "text": [
      "Train on 277221 samples, validate on 118809 samples\n",
      "Epoch 1/25\n",
      "277221/277221 [==============================] - 21s 77us/sample - loss: 0.4725 - val_loss: 0.4625\n",
      "Epoch 2/25\n",
      "277221/277221 [==============================] - 20s 71us/sample - loss: 0.4640 - val_loss: 0.4616\n",
      "Epoch 3/25\n",
      "277221/277221 [==============================] - 21s 75us/sample - loss: 0.4628 - val_loss: 0.4588\n",
      "Epoch 4/25\n",
      "277221/277221 [==============================] - 19s 69us/sample - loss: 0.4622 - val_loss: 0.4581\n",
      "Epoch 5/25\n",
      "277221/277221 [==============================] - 19s 68us/sample - loss: 0.4617 - val_loss: 0.4599\n",
      "Epoch 6/25\n",
      "277221/277221 [==============================] - 18s 65us/sample - loss: 0.4617 - val_loss: 0.4595\n",
      "Epoch 7/25\n",
      "277221/277221 [==============================] - 18s 64us/sample - loss: 0.4616 - val_loss: 0.4584\n",
      "Epoch 8/25\n",
      "277221/277221 [==============================] - 18s 63us/sample - loss: 0.4616 - val_loss: 0.4572\n",
      "Epoch 9/25\n",
      "277221/277221 [==============================] - 18s 64us/sample - loss: 0.4613 - val_loss: 0.4571\n",
      "Epoch 10/25\n",
      "277221/277221 [==============================] - 19s 67us/sample - loss: 0.4610 - val_loss: 0.4574\n",
      "Epoch 11/25\n",
      "277221/277221 [==============================] - 18s 66us/sample - loss: 0.4612 - val_loss: 0.4577\n",
      "Epoch 12/25\n",
      "277221/277221 [==============================] - 19s 70us/sample - loss: 0.4609 - val_loss: 0.4583\n",
      "Epoch 13/25\n",
      "277221/277221 [==============================] - 19s 67us/sample - loss: 0.4608 - val_loss: 0.4567\n",
      "Epoch 14/25\n",
      "277221/277221 [==============================] - 18s 64us/sample - loss: 0.4609 - val_loss: 0.4577\n",
      "Epoch 15/25\n",
      "277221/277221 [==============================] - 18s 65us/sample - loss: 0.4607 - val_loss: 0.4569\n",
      "Epoch 16/25\n",
      "277221/277221 [==============================] - 18s 65us/sample - loss: 0.4611 - val_loss: 0.4574\n",
      "Epoch 17/25\n",
      "277221/277221 [==============================] - 18s 66us/sample - loss: 0.4607 - val_loss: 0.4565\n",
      "Epoch 18/25\n",
      "277221/277221 [==============================] - 20s 71us/sample - loss: 0.4604 - val_loss: 0.4562\n",
      "Epoch 19/25\n",
      "277221/277221 [==============================] - 18s 66us/sample - loss: 0.4606 - val_loss: 0.4557\n",
      "Epoch 20/25\n",
      "277221/277221 [==============================] - 17s 63us/sample - loss: 0.4605 - val_loss: 0.4566\n",
      "Epoch 21/25\n",
      "277221/277221 [==============================] - 18s 64us/sample - loss: 0.4605 - val_loss: 0.4570\n",
      "Epoch 22/25\n",
      "277221/277221 [==============================] - 18s 65us/sample - loss: 0.4606 - val_loss: 0.4560\n",
      "Epoch 23/25\n",
      "277221/277221 [==============================] - 18s 65us/sample - loss: 0.4601 - val_loss: 0.4564\n",
      "Epoch 24/25\n",
      "277221/277221 [==============================] - 19s 68us/sample - loss: 0.4604 - val_loss: 0.4576\n",
      "Epoch 25/25\n",
      "277221/277221 [==============================] - 20s 72us/sample - loss: 0.4607 - val_loss: 0.4561\n"
     ]
    },
    {
     "data": {
      "text/plain": [
       "<tensorflow.python.keras.callbacks.History at 0x1d3a86e5348>"
      ]
     },
     "execution_count": 264,
     "metadata": {},
     "output_type": "execute_result"
    }
   ],
   "source": [
    "model.fit(x = X_train, y= y_train, epochs = 25, validation_data = (X_test, y_test), verbose = 1, callbacks=[es])"
   ]
  },
  {
   "cell_type": "code",
   "execution_count": 265,
   "metadata": {},
   "outputs": [
    {
     "data": {
      "text/plain": [
       "<matplotlib.axes._subplots.AxesSubplot at 0x1d3a9eb4148>"
      ]
     },
     "execution_count": 265,
     "metadata": {},
     "output_type": "execute_result"
    },
    {
     "data": {
      "image/png": "[encoded data removed]",
      "text/plain": [
       "<Figure size 432x288 with 1 Axes>"
      ]
     },
     "metadata": {
      "needs_background": "light"
     },
     "output_type": "display_data"
    }
   ],
   "source": [
    "pd.DataFrame(model.history.history).plot()"
   ]
  },
  {
   "cell_type": "code",
   "execution_count": 272,
   "metadata": {},
   "outputs": [],
   "source": [
    "pred = model.predict_classes(X_test)"
   ]
  },
  {
   "cell_type": "code",
   "execution_count": 273,
   "metadata": {},
   "outputs": [
    {
     "name": "stdout",
     "output_type": "stream",
     "text": [
      "              precision    recall  f1-score   support\n",
      "\n",
      "           0       0.50      0.00      0.00     23370\n",
      "           1       0.80      1.00      0.89     95439\n",
      "\n",
      "    accuracy                           0.80    118809\n",
      "   macro avg       0.65      0.50      0.45    118809\n",
      "weighted avg       0.74      0.80      0.72    118809\n",
      "\n",
      "\n",
      "\n",
      "[[    7 23363]\n",
      " [    7 95432]]\n"
     ]
    }
   ],
   "source": [
    "print(classification_report(y_test,pred))\n",
    "print('\\n')\n",
    "print(confusion_matrix(y_test, pred))"
   ]
  },
  {
   "cell_type": "code",
   "execution_count": 275,
   "metadata": {},
   "outputs": [
    {
     "name": "stdout",
     "output_type": "stream",
     "text": [
      "<class 'pandas.core.frame.DataFrame'>\n",
      "RangeIndex: 396030 entries, 0 to 396029\n",
      "Data columns (total 34 columns):\n",
      " #   Column                Non-Null Count   Dtype  \n",
      "---  ------                --------------   -----  \n",
      " 0   loan_amnt             396030 non-null  float64\n",
      " 1   term                  396030 non-null  uint8  \n",
      " 2   int_rate              396030 non-null  float64\n",
      " 3   installment           396030 non-null  float64\n",
      " 4   annual_inc            396030 non-null  float64\n",
      " 5   loan_status           396030 non-null  uint8  \n",
      " 6   dti                   396030 non-null  float64\n",
      " 7   open_acc              396030 non-null  float64\n",
      " 8   pub_rec               396030 non-null  float64\n",
      " 9   revol_bal             396030 non-null  float64\n",
      " 10  revol_util            396030 non-null  float64\n",
      " 11  total_acc             396030 non-null  float64\n",
      " 12  initial_list_status   396030 non-null  uint8  \n",
      " 13  pub_rec_bankruptcies  396030 non-null  float64\n",
      " 14  A                     396030 non-null  uint8  \n",
      " 15  B                     396030 non-null  uint8  \n",
      " 16  C                     396030 non-null  uint8  \n",
      " 17  D                     396030 non-null  uint8  \n",
      " 18  E                     396030 non-null  uint8  \n",
      " 19  F                     396030 non-null  uint8  \n",
      " 20  G                     396030 non-null  uint8  \n",
      " 21  ANY                   396030 non-null  uint8  \n",
      " 22  MORTGAGE              396030 non-null  uint8  \n",
      " 23  NONE                  396030 non-null  uint8  \n",
      " 24  OTHER                 396030 non-null  uint8  \n",
      " 25  OWN                   396030 non-null  uint8  \n",
      " 26  RENT                  396030 non-null  uint8  \n",
      " 27  Source Verified       396030 non-null  uint8  \n",
      " 28  Verified              396030 non-null  uint8  \n",
      " 29  month                 396030 non-null  int64  \n",
      " 30  credit_card           396030 non-null  uint8  \n",
      " 31  debt_consolidation    396030 non-null  uint8  \n",
      " 32  home_improvement      396030 non-null  uint8  \n",
      " 33  other                 396030 non-null  uint8  \n",
      "dtypes: float64(11), int64(1), uint8(22)\n",
      "memory usage: 44.6 MB\n"
     ]
    }
   ],
   "source": [
    "df_dummies1.info()"
   ]
  },
  {
   "cell_type": "code",
   "execution_count": null,
   "metadata": {},
   "outputs": [],
   "source": []
  }
 ],
 "metadata": {
  "kernelspec": {
   "display_name": "Python 3",
   "language": "python",
   "name": "python3"
  },
  "language_info": {
   "codemirror_mode": {
    "name": "ipython",
    "version": 3
   },
   "file_extension": ".py",
   "mimetype": "text/x-python",
   "name": "python",
   "nbconvert_exporter": "python",
   "pygments_lexer": "ipython3",
   "version": "3.7.6"
  }
 },
 "nbformat": 4,
 "nbformat_minor": 4
}
